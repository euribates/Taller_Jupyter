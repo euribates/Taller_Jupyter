{
 "cells": [
  {
   "cell_type": "markdown",
   "metadata": {},
   "source": [
    "Formulas matemáticas (con MathJax)\n",
    "========================================================"
   ]
  },
  {
   "cell_type": "markdown",
   "metadata": {},
   "source": [
    "Fórmulas en línea o en bloque\n",
    "---------------------------------\n",
    "\n",
    "Tenemos dos formas de incluir formulas matemáticas, en medio del texto o en forma de bloque. Para las formulas incuidas dentro de un texto, llamadas en línea o _inline_, se usa **un caracter `$`** antes y después de la fórmula. Para un bloque, se usan **dos caracteres `$` **.\n",
    "\n",
    "Veámos el siguiente ejemplo:\n",
    "\n",
    "> La identidad de Euler, $e^{i\\pi} + 1 = 0$ es un caso especial de la fórmula desarrollada por Leonhard Euler, notable por relacionar cinco números muy utilizados en la historia de las matemáticas y que pertenecen a distintas ramas de la misma\n",
    "\n",
    "La expresion $e^{i\\pi} + 1 = 0$ se representa así: `$e^{i\\pi} + 1 = 0$.`\n",
    "\n",
    "Las formulas de bloque se construyen con dos signos de dolar `$$`, como en el siguiente ejemplo\n",
    "\n",
    "> Sea $x$ un número real, la función logaritmo le asigna el exponente o potencia $n$ a la que un número fijo $b$, llamado _base_, se ha de elevar para obtener dicho argumento. Es la función inversa de $b$ a la potencia $n$. Esta función se escribe como:\n",
    "\n",
    "> $$ \\log_2 x = n \\quad \\iff \\quad x = n^2 $$\n",
    "\n",
    "Si se accede al contenido de la celda, vemos que la expresión de equivalencia se ha redactado así: `$$ \\log_b x = n \\quad \\iff \\quad x = n^2 $$`."
   ]
  },
  {
   "cell_type": "markdown",
   "metadata": {},
   "source": [
    "Letras griegas\n",
    "----------------\n",
    "\n",
    "Podemos usar letras griegas en minúsculas con `\\alpha`, `\\beta`, `\\gamma`, ... `\\omega`:\n",
    "\n",
    "$$ alfa: \\alpha $$\n",
    "$$ beta: \\beta $$\n",
    "$$ gamma: \\gamma $$\n",
    "$$ ... $$\n",
    "$$ omega: \\omega $$\n",
    "\n",
    "Y en mayúsculas con `\\Gamma`, `\\Delta` ... `\\Omega`:\n",
    "\n",
    "$$ Gamma: \\Gamma $$\n",
    "$$ Delta: \\Delta $$\n",
    "$$ ... $$\n",
    "$$ Omega: \\Omega $$\n",
    "\n",
    "> Las letras alfa mayúscula y beta mayúscula no se incluyen porque en estos dos casos las formas gráficas son iguales que las letras mayúyculas `A` y `B` latinas. Pasa lo mismo con épsilon $\\epsilon$, micro $\\mu$, etc."
   ]
  },
  {
   "cell_type": "markdown",
   "metadata": {},
   "source": [
    "Símbolos matemáticos habituales \n",
    "-----------------------------------\n",
    "\n",
    "Algunos de los símbolos más habituales pueden verse en esta tabla:\n",
    "\n",
    "| Símbolo     | Código Latex | Símbolo   | Código Latex | Símbolo | Código Latex |\n",
    "|-------------|--------------|-----------|--------------|---------|--------------|\n",
    "| $\\neq$      | `\\neq`       | $\\pm$     | `\\pm`        | $\\gets$ | `\\gets`      |\n",
    "| $\\impliedby$| `\\impliedby` | $\\implies$| `\\implies`   | $\\to$   | `\\to`        |\n",
    "| $\\leqslant$ | `\\leqslant`  | $\\mp$     | `\\mp`        | $\\iff$  | `\\iff`       |\n",
    "| $\\geqslant$ | `\\leqslant`  | $\\times$  | `\\times`     | $\\$$    | `\\$`         |\n",
    "| $\\approx$   | `\\approx`    | $\\div$    | `\\div`       | $\\wr$   | `\\wr`        |\n",
    "| $\\equiv$    | `\\equiv`     | $\\cup$    | `\\cup`       | $\\cap$  | `\\cap`       |\n",
    "| $\\cong$     | `\\cong`      | $\\simeq$  | `\\simeq`     | $\\{$    | `\\{`         |\n",
    "| $\\in$       | `\\in`        | $\\notin$  | `\\notin`     | $\\}$    | `\\}`         |\n",
    "| $\\partial$  | `\\partial`   | $\\infty$  | `\\infty`     | $\\ell$  | `\\ell`       |\n",
    "| $\\subset$   | `\\subset`    | $\\supset$ | `\\supset`    | $\\varnothing$  | `\\varnothing`       |\n",
    "| $\\subseteq$ | `\\subseteq`  | $\\supseteq$ | `\\supseteq`    | $\\S$  | `\\S`       |\n",
    "| $\\vee$      | `\\vee`       | $\\wedge$  | `\\wedge`     | $\\cdot$ | `\\cdot`      |\n",
    "| $\\forall$   | `\\forall`    | $\\exists$ | `\\exists`    | $\\ast$  | `\\ast`       |\n",
    "| $\\checkmark$| `\\checkmark` | $\\nabla$  | `\\nabla`     | $\\aleph$| `\\aleph`       |"
   ]
  },
  {
   "cell_type": "markdown",
   "metadata": {},
   "source": [
    "Superíndices y subíndices\n",
    "-----------------------------\n",
    "\n",
    "Para los superíndices se usa el caracter `^` y para subíndices `_`. Por ejemplo\n",
    "`x_i^2` se vería así:\n",
    "    \n",
    "$$ x_i^2 $$\n",
    "\n",
    "y `\\log_2 x` así:\n",
    "\n",
    "$$ \\log_2 x $$"
   ]
  },
  {
   "cell_type": "markdown",
   "metadata": {},
   "source": [
    "Grupos\n",
    "-------\n",
    "\n",
    "Los superíndices, los subíndices y otras operaciones que veremos sólo se aplican al siguiente _grupo_, entendiendo por grupo o bien un solo caracter o una expresión entre llaves ({ ... }). POr ejemplo, si queremos expresar la potencia vigesimo cuarta de 2, la expresión `2^24` no nos dará lo esperado:\n",
    "\n",
    "$$ 2^24 $$\n",
    "\n",
    "Para conseguir lo que queremos hay que expresar el exponente como un grupo con llaves, es decir `2^{24}`:\n",
    "\n",
    "$$ 2^{24} $$\n",
    "\n",
    "También se pueden añadir llaves para delimitar el grupo al que el subíndice o superíndice debe aplicarse, por ejemplo `{x^y}^z`:\n",
    "\n",
    "$${x^y}^z $$\n",
    " \n",
    "es distinto de `x^{y^z}`]:\n",
    "\n",
    "$$x^{y^z} $$\n",
    "\n",
    "Observese este otro ejemplo, la diferencia entre `x_i^2` y `x_{i^2}`:\n",
    "\n",
    "$$ x_i^2 $$\n",
    "$$ x_{i^2} $$"
   ]
  },
  {
   "cell_type": "markdown",
   "metadata": {},
   "source": [
    "Paréntesis\n",
    "--------------\n",
    "\n",
    "Se pueden usar sin problemas los signos de paréntesis: `(` y `)` y corchetes: `[` y `]`, pero para usar las llaves de forma literal hay que escaparlas: '\\{' y '\\}'.\n",
    "\n",
    "El problema es que estos caracteres no escalan proporcionalmente a la expresión que haya en su interior, así que si se escribe `(\\frac{\\sqrt x}{y^3})`, los paréntesis serán demasiado pequeños:\n",
    "\n",
    "$$ (\\frac{\\sqrt x}{y^3}) $$\n",
    "\n",
    "Para evitarlo se pueden usar las expresiones `\\left(` y `\\right)`, que si se adaptan dinámicamente a su contenido:\n",
    "\n",
    "$$ \\left(\\frac{\\sqrt x}{y^3}\\right) $$\n",
    "\n",
    "También podemos usar a los corchetes (`\\left[` y `\\right]`):\n",
    "\n",
    "$$ \\left[ \\left(\\frac{\\sqrt x}{y^3}\\right) \\alpha^2 \\right] $$"
   ]
  },
  {
   "cell_type": "markdown",
   "metadata": {},
   "source": [
    "Sumatorios e integrales\n",
    "------------------------------\n",
    "\n",
    "\n",
    "Para obtener expresiones de sumatorios e integrales, se usan respectivamente \n",
    "`\\sum` e `\\int`. El subíndice será el límite inferior y  el superíndice el límite\n",
    "superior. Por ejemplo: `\\sum_1^n` equivale a:\n",
    "\n",
    "$$ \\sum_1^n $$ \n",
    "\n",
    "\n",
    "Como vimos antes, hay que agrupar con llaves si los límites contienen más de un símbolo, por ejemplo `\\int_{i=0}^\\infty i^2` sería:\n",
    "\n",
    "$$ \\int_{i=0}^\\infty i^2 $$\n",
    "\n",
    "Otras posibilidades son `\\prod` $\\prod$, `\\bigcup` $\\bigcup$, `\\bigcap` $\\bigcap$ e $`\\iint`$."
   ]
  },
  {
   "cell_type": "markdown",
   "metadata": {},
   "source": [
    "Fracciones\n",
    "-------------\n",
    "\n",
    "Hay dos formas de representar fracciones: `\\frac ab` se aplica a los dos grupos siguientes: \n",
    "\n",
    "$$\\frac ab$$\n",
    "\n",
    "Si las espresiones del numerador o denominador son más complejas, las podemos agrupar con las llaves, por ejemplo `\\frac{a+1}{b-1}` resulta en:\n",
    "\n",
    "$$ \\frac {a+1} {b-1} $$ \n",
    "\n",
    "La otra forma es habitual para expresiones más complicadas, usando `\\over` se puede dividir un grupo para formar la fracción, por ejemplo, la expresión anterior con over sería `{a+1\\over b-1}`, que se vería: \n",
    "\n",
    "$$ {a+1\\over b-1} $$"
   ]
  },
  {
   "cell_type": "markdown",
   "metadata": {},
   "source": [
    "Tipografías (_fonts_)\n",
    "----------------------------\n",
    "\n",
    "Existen varias opciones:\n",
    "    \n",
    "- Se puede usar `\\mathbb` o `\\Bbb` para el estilo _pizarra clásica_: $\\mathbb{ABC\\ldots WXYZ}$\n",
    "\n",
    "- `\\mathbf` para tipografia _bold_ o negrita: $\\mathbf{ABC\\ldots WXYZ}$\n",
    "\n",
    "- `\\mathtt` para tipografía monoespaciada: $\\mathtt{ABC\\ldots WXYZ}$\n",
    "\n",
    "- `\\mathfrak` para tipografía _Fraktur_ a Germánica:  $\\mathfrak{ABC\\ldots WXYZ}$\n",
    "\n",
    "- `\\mathrm` para tipografía Roman:  $\\mathrm{ABC\\ldots WXYZ}$\n",
    "\n",
    "- `\\mathsf` para tipografía _sans-serif_:  $\\mathsf{ABC\\ldots WXYZ}$\n",
    "\n",
    "- `\\mathcal` para tipografía caligráfica:  $\\mathcal{ABC\\ldots WXYZ}$\n",
    "\n",
    "- `\\mathscr` para tipografía manuscrita o _script_:  $\\mathscr{ABC\\ldots WXYZ}$\n",
    "\n"
   ]
  },
  {
   "cell_type": "markdown",
   "metadata": {},
   "source": [
    "Raíces\n",
    "------------\n",
    "\n",
    "Usando `\\sqrt` podemos ajustarnos al contenido, como vimos con los paréntesis antes. Con `\\sqrt{x^3}` obtenemos:\n",
    "\n",
    "$$ \\sqrt{x^3} $$\n",
    "\n",
    "Para raices distintas de la raíz cuadrada, usamos corchetes para indicar el índice de la raíz, es decir, para la raiz cúbica `\\sqrt[3]{\\frac {x^2}y}` genera:\n",
    "\n",
    "$$ \\sqrt[3]{\\frac {x^2}y} $$\n",
    "\n",
    "Para expresiones complejas, se puede usar la forma `{...}^{1/2}`, por ejemplo:\n",
    "\n",
    "$$ {\\left(x \\sin\\phi + z \\cos\\phi\\right)}^{1/2} $$"
   ]
  },
  {
   "cell_type": "markdown",
   "metadata": {},
   "source": [
    "Funciones especiales\n",
    "-------------------------\n",
    "\n",
    "Algunas  funciones especiales como lim, sin, max, etc... se escribe normalmente con tipografia románica en vez de itálica. Para conseguirlo hay que usar `\\lim`, `\\sin`, `\\max`, etc... Véase la diferencia entre `sin(x)` y `\\sin(x)`:\n",
    "\n",
    "$$ sin(x)  \\quad | \\quad \\sin(x) $$\n",
    "\n",
    "Para los límites, se usa un subíndice para incluir una anotación, como en `\\lim_{x\\to 0}`:\n",
    "\n",
    "$$ \\lim_{x\\to 0} $$"
   ]
  },
  {
   "cell_type": "markdown",
   "metadata": {},
   "source": [
    "Acentos especiales\n",
    "--------------------------\n",
    "\n",
    "Hay una serie de marcas para añadir acentos especiales a caracteres normales. Algunos de los más usados son:\n",
    "    \n",
    "| Codigo         | resultado       |\n",
    "|----------------|-----------------|\n",
    "| `\\tilde{a}`    | $\\tilde{a}$     |\n",
    "| `\\hat{a}`      | $\\hat{a}$       |\n",
    "| `\\check{a}`    | $\\check{a}$     |\n",
    "| `\\vec{a}`      | $\\vec{a}$       |\n",
    "| `\\bar{a}`      | $\\bar{a}$       |        \n",
    "| `\\acute{a}`    | $\\acute{a}$     |\n",
    "| `\\grave{a}`    | $\\grave{a}$     |\n",
    "| `\\breve{a}`    | $\\breve{a}$     |\n",
    "| `\\dot{a}`      | $\\dot{a}$       |\n",
    "| `\\ddot{a}`     | $\\ddot{a}$      |\n",
    "| `\\dddot{a}`    | $\\dddot{a}$     |\n",
    "| `\\ddddot{a}`   | $\\ddddot{a}$    |\n",
    "| `\\mathring{a}` | $\\mathring{a}$  |\n",
    "| `\\boxed{a}`    | $\\boxed{a}$     |\n",
    "\n",
    "En la tabla se muestran con la letra `a`, pero se pueden aplicar a cualquier letra\n",
    "          "
   ]
  },
  {
   "cell_type": "markdown",
   "metadata": {},
   "source": [
    "Puntos suspensivos\n",
    "-------------------------\n",
    "\n",
    "Se puede user `\\ldots` para obtener puntos como en \n",
    "\n",
    "$$ a_1, a_2, \\ldots, a_n $$\n",
    "\n",
    "O usar `\\cdots` para obtener:\n",
    "    \n",
    "    \n",
    "$$ a_1+a_2+\\cdots+a_n $$"
   ]
  },
  {
   "cell_type": "markdown",
   "metadata": {},
   "source": [
    "Resaltar ecuaciones\n",
    "--------------------------\n",
    "\n",
    "Si queremos resaltar una ecuación podemos usar `\\dbox`, de forma que:\n",
    "\n",
    "    $$ \\bbox[yellow]\n",
    "    {\n",
    "    e^x=\\lim_{n\\to\\infty} \\left( 1+\\frac{x}{n} \\right)^n \\qquad (1)\n",
    "    }\n",
    "    $$\n",
    "\n",
    "Produce:\n",
    "\n",
    "$$ \\bbox[yellow,5px]\n",
    "{\n",
    "e^x=\\lim_{n\\to\\infty} \\left( 1+\\frac{x}{n} \\right)^n \\qquad (1)\n",
    "}\n",
    "$$"
   ]
  },
  {
   "cell_type": "markdown",
   "metadata": {},
   "source": [
    "Matrices\n",
    "------------------\n",
    "\n",
    "Usando `\\begin{matrix} ... \\end{matrix}` podemos incluir una matriz. Para separar las columnas se debe usar el caracter `&` y para separar las filas se usan dos barras invertiddas `\\\\`. Por ejemplo:\n",
    "\n",
    "    \\begin{matrix}\n",
    "    1 & x & x^2 \\\\\n",
    "    1 & y^2 & y^2 \\\\\n",
    "    1 & z & z^2 \\\\\n",
    "    \\end{matrix}\n",
    "    \n",
    "Produce:\n",
    "\n",
    "$$\n",
    "    \\begin{matrix}\n",
    "    1 & x & x^2 \\\\\n",
    "    1 & y^2 & y^2 \\\\\n",
    "    1 & z & z^2 \\\\\n",
    "    \\end{matrix}\n",
    "$$\n",
    "\n",
    "Los espacios se ajustaran de forma automática. Si queremos podemos añadir paréntesis, corchetes o llaves usando las expresiones que vimos en un apartado anterior, o usando, en vez de `matrix`, `pmatrix` para paréntesis, `bmatrix` para corchetes, `Bmatrix` para llaves, `vmatrix` para barras y `Vmatrix` para doble barra.\n",
    "\n",
    "Puedes usar `\\cdots` $\\cdots$, `\\ddots` $\\ddots$ y `\\vdots` $\\vdots$ para omitir partes de la matriz.\n",
    "\n",
    "$$\n",
    "\\begin{vmatrix}\n",
    "1      & a_1    & a_1^2  & \\cdots & a_1^n  \\\\\n",
    "1      & a_2    & a_2^2  & \\cdots & a_2^n  \\\\\n",
    "\\vdots & \\vdots & \\vdots & \\ddots & \\vdots \\\\\n",
    "1      & a_m    & a_m^2  & \\cdots & a_m^n  \\\\\n",
    "\\end{vmatrix}\n",
    "$$\n",
    "\n"
   ]
  },
  {
   "cell_type": "markdown",
   "metadata": {},
   "source": [
    "Incluir Latex\n",
    "----------------------\n",
    "\n",
    "Podemos usar el comando magico %%latex para incluir código Latex puro"
   ]
  },
  {
   "cell_type": "code",
   "execution_count": 3,
   "metadata": {},
   "outputs": [
    {
     "data": {
      "text/latex": [
       "\\begin{align}\n",
       "\\nabla \\times \\vec{\\mathbf{B}} -\\, \\frac1c\\, \\frac{\\partial\\vec{\\mathbf{E}}}{\\partial t} & = \\frac{4\\pi}{c}\\vec{\\mathbf{j}} \\\\\n",
       "\\nabla \\cdot \\vec{\\mathbf{E}} & = 4 \\pi \\rho \\\\\n",
       "\\nabla \\times \\vec{\\mathbf{E}}\\, +\\, \\frac1c\\, \\frac{\\partial\\vec{\\mathbf{B}}}{\\partial t} & = \\vec{\\mathbf{0}} \\\\\n",
       "\\nabla \\cdot \\vec{\\mathbf{B}} & = 0\n",
       "\\end{align}"
      ],
      "text/plain": [
       "<IPython.core.display.Latex object>"
      ]
     },
     "metadata": {},
     "output_type": "display_data"
    }
   ],
   "source": [
    "%%latex\n",
    "\\begin{align}\n",
    "\\nabla \\times \\vec{\\mathbf{B}} -\\, \\frac1c\\, \\frac{\\partial\\vec{\\mathbf{E}}}{\\partial t} & = \\frac{4\\pi}{c}\\vec{\\mathbf{j}} \\\\\n",
    "\\nabla \\cdot \\vec{\\mathbf{E}} & = 4 \\pi \\rho \\\\\n",
    "\\nabla \\times \\vec{\\mathbf{E}}\\, +\\, \\frac1c\\, \\frac{\\partial\\vec{\\mathbf{B}}}{\\partial t} & = \\vec{\\mathbf{0}} \\\\\n",
    "\\nabla \\cdot \\vec{\\mathbf{B}} & = 0\n",
    "\\end{align}"
   ]
  },
  {
   "cell_type": "markdown",
   "metadata": {},
   "source": [
    "Referencias y recursos\n",
    "-------------------------------\n",
    "\n",
    "- Este resumen sacada de Stack Overflow [Mathjax basic tutorial and quick reference](https://math.meta.stackexchange.com/questionsa/5020/mathjax-basic-tutorial-and-quick-reference)\n",
    "\n",
    "- [Ejemplos de la documentación de Jupyter](http://jupyter-notebook.readthedocs.io/en/stable/examples/Notebook/Typesetting%20Equations.html)\n",
    "\n",
    "- [Detexify](http://detexify.kirelabs.org/classify.html) te permite dibujar un símbolo\n",
    "en una página web y te muestra los símbolos TeX que más se le parecen. No obstante, Mathjax no soporta todo el conjunto de caracteres que soporta TeX. Pero es un buen punto para empezar.\n",
    "\n",
    "- MathJax.org mantienen [una lista de ordenes LATEX soportadas](http://docs.mathjax.org/en/latest/tex.html#supported-latex-commands).\n",
    "\n",
    "- La página de la doctora Carol J.V. FISHER BURNS sobre [ordenes tex disponibles en MathJax](http://www.onemathematicalcat.org/MathJaxDocumentation/TeXSyntax.htm) es muy completa.\n",
    "\n",
    "- Latex tiene muchos más símbolos dispobibles; se puede consultar un listado abreviado aqui: [http://pic.plover.com/MISC/symbols.pdf](http://pic.plover.com/MISC/symbols.pdf)\n",
    "\n",
    "- Y otros mucho más extenso en: [http://library.caltech.edu/etd/symbols-a4.pdf](http://library.caltech.edu/etd/symbols-a4.pdf)"
   ]
  },
  {
   "cell_type": "code",
   "execution_count": null,
   "metadata": {},
   "outputs": [],
   "source": []
  },
  {
   "cell_type": "code",
   "execution_count": null,
   "metadata": {},
   "outputs": [],
   "source": []
  }
 ],
 "metadata": {
  "kernelspec": {
   "display_name": "Python 3",
   "language": "python",
   "name": "python3"
  },
  "language_info": {
   "codemirror_mode": {
    "name": "ipython",
    "version": 3
   },
   "file_extension": ".py",
   "mimetype": "text/x-python",
   "name": "python",
   "nbconvert_exporter": "python",
   "pygments_lexer": "ipython3",
   "version": "3.5.2"
  }
 },
 "nbformat": 4,
 "nbformat_minor": 2
}
