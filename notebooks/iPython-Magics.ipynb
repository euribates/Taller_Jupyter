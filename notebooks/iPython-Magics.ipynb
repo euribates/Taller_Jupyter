{
 "cells": [
  {
   "cell_type": "code",
   "execution_count": 1,
   "metadata": {},
   "outputs": [
    {
     "data": {
      "image/svg+xml": [
       "<svg height=\"200\" version=\"1.1\" viewBox=\"0 0 200 200\" width=\"200\">\n",
       "\n",
       "<ellipse cx=\"74\" cy=\"100\" rx=\"48\" ry=\"23\" style=\"fill:purple\"/>\n",
       "\n",
       "<ellipse cx=\"120\" cy=\"70\" rx=\"20\" ry=\"20\" style=\"fill:lime\"/>\n",
       "\n",
       "<ellipse cx=\"110\" cy=\"45\" rx=\"15\" ry=\"15\" style=\"fill:yellow\"/>\n",
       "\n",
       "<rect height=\"45\" id=\"rect4136\" style=\"fill:#336699\" width=\"27\" x=\"49\" y=\"86\"/>\n",
       "</svg>"
      ],
      "text/plain": [
       "<IPython.core.display.SVG object>"
      ]
     },
     "metadata": {},
     "output_type": "display_data"
    }
   ],
   "source": [
    "%%svg\n",
    "<?xml version=\"1.0\" encoding=\"UTF-8\" standalone=\"no\"?>\n",
    "<svg width=\"200\" height=\"200\" viewBox=\"0 0 200 200\" version=\"1.1\">\n",
    "\n",
    "<ellipse cx=\"74\" cy=\"100\" rx=\"48\" ry=\"23\" style=\"fill:purple\" />\n",
    "\n",
    "<ellipse cx=\"120\" cy=\"70\" rx=\"20\" ry=\"20\" style=\"fill:lime\" />\n",
    "\n",
    "<ellipse cx=\"110\" cy=\"45\" rx=\"15\" ry=\"15\" style=\"fill:yellow\" />\n",
    "\n",
    "<rect id=\"rect4136\" width=\"27\" style=\"fill:#336699\" height=\"45\" x=\"49\" y=\"86\" />\n",
    "</svg>"
   ]
  },
  {
   "cell_type": "code",
   "execution_count": null,
   "metadata": {},
   "outputs": [],
   "source": []
  }
 ],
 "metadata": {
  "kernelspec": {
   "display_name": "Python 3",
   "language": "python",
   "name": "python3"
  },
  "language_info": {
   "codemirror_mode": {
    "name": "ipython",
    "version": 3
   },
   "file_extension": ".py",
   "mimetype": "text/x-python",
   "name": "python",
   "nbconvert_exporter": "python",
   "pygments_lexer": "ipython3",
   "version": "3.5.2"
  }
 },
 "nbformat": 4,
 "nbformat_minor": 2
}
