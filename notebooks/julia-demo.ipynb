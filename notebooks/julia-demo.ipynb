{
 "cells": [
  {
   "cell_type": "code",
   "execution_count": 2,
   "metadata": {},
   "outputs": [
    {
     "name": "stdout",
     "output_type": "stream",
     "text": [
      "hola, mundo\n"
     ]
    }
   ],
   "source": [
    "println(\"hola, mundo\")"
   ]
  },
  {
   "cell_type": "code",
   "execution_count": 5,
   "metadata": {},
   "outputs": [
    {
     "name": "stdout",
     "output_type": "stream",
     "text": [
      "Julia Version 0.4.5\n",
      "Commit 2ac304d (2016-03-18 00:58 UTC)\n",
      "Platform Info:\n",
      "  System: Linux (x86_64-linux-gnu)\n",
      "  CPU: Intel(R) Core(TM) i7-6700 CPU @ 3.40GHz\n",
      "  WORD_SIZE: 64\n",
      "  BLAS: libopenblas (NO_LAPACKE DYNAMIC_ARCH NO_AFFINITY Haswell)\n",
      "  LAPACK: libopenblas\n",
      "  LIBM: libopenlibm\n",
      "  LLVM: libLLVM-3.8\n"
     ]
    }
   ],
   "source": [
    "versioninfo()"
   ]
  },
  {
   "cell_type": "code",
   "execution_count": 13,
   "metadata": {},
   "outputs": [
    {
     "name": "stdout",
     "output_type": "stream",
     "text": [
      "01_intro_jupyter_notebook.ipynb\n",
      "01_intro_jupyter.odp\n",
      "01_intro_jupyter.pdf\n",
      "02_markdown.odp\n",
      "171819_LISTADO ADMITIDOS.pdf\n",
      "apuntes.md\n",
      "Apuntes sobre R.ipynb\n",
      "_build\n",
      "cheatsheets\n",
      "conf.py\n",
      "data\n",
      "ebooks\n",
      "fondo.svg\n",
      "hello_wold.R\n",
      "img\n",
      "index.rst\n",
      "logo.png\n",
      "Makefile\n",
      "notas.md\n",
      "notebooks\n",
      "Papeleo\n",
      "Scientific-Computing-with-Python.pdf\n",
      "_static\n",
      "temario.md\n",
      "_templates\n",
      "Untitled1.ipynb\n",
      "Untitled2.ipynb\n",
      "Untitled.ipynb\n"
     ]
    }
   ],
   "source": [
    ";ls"
   ]
  },
  {
   "cell_type": "code",
   "execution_count": 23,
   "metadata": {},
   "outputs": [
    {
     "name": "stdout",
     "output_type": "stream",
     "text": [
      "0 al cuadrado es 0\n",
      "1 al cuadrado es 1\n",
      "2 al cuadrado es 4\n",
      "3 al cuadrado es 9\n",
      "4 al cuadrado es 16\n",
      "5 al cuadrado es 25\n"
     ]
    }
   ],
   "source": [
    "function hola(n::Int)\n",
    "    for i in 0:n-1\n",
    "        println(i, \" al cuadrado es \", i^2)\n",
    "    end\n",
    "end;\n",
    "\n",
    "hola(6)"
   ]
  },
  {
   "cell_type": "markdown",
   "metadata": {},
   "source": [
    "## Tuplas"
   ]
  },
  {
   "cell_type": "code",
   "execution_count": 24,
   "metadata": {},
   "outputs": [
    {
     "data": {
      "text/plain": [
       "(1,3.2,\"Hola\",true)"
      ]
     },
     "execution_count": 24,
     "metadata": {},
     "output_type": "execute_result"
    }
   ],
   "source": [
    "t = (1, 3.2, \"Hola\", true)"
   ]
  },
  {
   "cell_type": "markdown",
   "metadata": {},
   "source": [
    "## Arrays"
   ]
  },
  {
   "cell_type": "code",
   "execution_count": 25,
   "metadata": {},
   "outputs": [
    {
     "data": {
      "text/plain": [
       "5-element Array{Float64,1}:\n",
       " 0.0\n",
       " 0.0\n",
       " 0.0\n",
       " 0.0\n",
       " 0.0"
      ]
     },
     "execution_count": 25,
     "metadata": {},
     "output_type": "execute_result"
    }
   ],
   "source": [
    "zeros(5)"
   ]
  },
  {
   "cell_type": "code",
   "execution_count": null,
   "metadata": {},
   "outputs": [],
   "source": []
  }
 ],
 "metadata": {
  "kernelspec": {
   "display_name": "Julia 0.4.5",
   "language": "julia",
   "name": "julia-0.4"
  },
  "language_info": {
   "file_extension": ".jl",
   "mimetype": "application/julia",
   "name": "julia",
   "version": "0.4.5"
  }
 },
 "nbformat": 4,
 "nbformat_minor": 2
}
