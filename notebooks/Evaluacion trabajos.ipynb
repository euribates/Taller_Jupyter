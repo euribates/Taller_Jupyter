{
 "cells": [
  {
   "cell_type": "markdown",
   "metadata": {},
   "source": [
    "## Evaluación trabajos"
   ]
  },
  {
   "cell_type": "markdown",
   "metadata": {},
   "source": [
    "Hay que realizar un notebook sobre algún tema que les parezca interesante o simplemente divertido. El notebook se puntuará de la siguiente manera:\n",
    "\n",
    "- 1 Punto por incluir al menos una celda con texto en Markdown\n",
    "\n",
    "- 1 punto por incluir al menos una celda con código Python, Jupyter o R (U otro lenguaje, vease la nota final)\n",
    "\n",
    "- 1 Punto por incluir algún comando mágico (Por ejemplo, #matplotlib inline)\n",
    "\n",
    "- 2 puntos por incluir una tabla en Markdown (Extensiones de GitHub)\n",
    "\n",
    "- 2 puntos por incluir un texto con código usando coloreado de sintaxis (Extensiones de GitHub)\n",
    "\n",
    "- 3 puntos si se incluye un enlace o una imagen en una celda markdown\n",
    "\n",
    "- 3 puntos por incluir una formula matemática con Mathjax\n",
    "\n",
    "- 3 puntos por usar un array de numpy o una serie/Dataframe de pandas\n",
    "\n",
    "- 3 puntos por incluir una gráfica, ya sea con matplotlib directamente o mediante pandas\n",
    "\n",
    "- 3 puntos por realizar una operacion paralalizable con arrays de numpy o series/dataframes de pandas\n",
    "\n"
   ]
  },
  {
   "cell_type": "markdown",
   "metadata": {},
   "source": [
    "### Puntuación\n",
    "\n",
    "El total son 22 puntos, pero basta con tener **7** para aprobar, con una nota de 5/10. Con **11** puntos o más tienes un 9/10 de nota. Para obtener un **10/10**, incluye algo de Jupyter que no se haya explicado en el curso, como usar alguna librería que no hayamos visto, usar extensiones, usar otro kernel, comunicación entre dos notebooks distintos, GitHub, JupyerHub ... hay muchísimas cosas."
   ]
  },
  {
   "cell_type": "markdown",
   "metadata": {},
   "source": [
    "### Entrega\n",
    "\n",
    "Enviar por correo electrónico a `euribates@gmail.com`."
   ]
  },
  {
   "cell_type": "code",
   "execution_count": null,
   "metadata": {},
   "outputs": [],
   "source": []
  }
 ],
 "metadata": {
  "kernelspec": {
   "display_name": "Python 3",
   "language": "python",
   "name": "python3"
  },
  "language_info": {
   "codemirror_mode": {
    "name": "ipython",
    "version": 3
   },
   "file_extension": ".py",
   "mimetype": "text/x-python",
   "name": "python",
   "nbconvert_exporter": "python",
   "pygments_lexer": "ipython3",
   "version": "3.5.2"
  }
 },
 "nbformat": 4,
 "nbformat_minor": 2
}
