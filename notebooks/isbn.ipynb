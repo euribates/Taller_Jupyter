{
 "cells": [
  {
   "cell_type": "code",
   "execution_count": 1,
   "metadata": {},
   "outputs": [],
   "source": [
    "import requests\n",
    "import json"
   ]
  },
  {
   "cell_type": "code",
   "execution_count": 2,
   "metadata": {},
   "outputs": [],
   "source": [
    "def define(isbn):\n",
    "    url_base = 'https://openlibrary.org/api/books?bibkeys=ISBN:{isbn}&format=json'\n",
    "    url = url_base.format(isbn=isbn)\n",
    "    s = requests.get(url)\n",
    "    try:\n",
    "        if s.status_code == 200:\n",
    "            data = json.loads(s.text)\n",
    "        else:\n",
    "            data = 'No se ha podifo realizar la petición'\n",
    "    finally:\n",
    "        s.close()\n",
    "    return data\n",
    "    "
   ]
  },
  {
   "cell_type": "code",
   "execution_count": 3,
   "metadata": {},
   "outputs": [],
   "source": [
    "data = define('9781449319793')"
   ]
  },
  {
   "cell_type": "code",
   "execution_count": 4,
   "metadata": {},
   "outputs": [
    {
     "data": {
      "text/plain": [
       "{'ISBN:9781449319793': {'bib_key': 'ISBN:9781449319793',\n",
       "  'info_url': 'https://openlibrary.org/books/OL26005473M/Python_For_Data_Analysis',\n",
       "  'preview': 'noview',\n",
       "  'preview_url': 'https://openlibrary.org/books/OL26005473M/Python_For_Data_Analysis',\n",
       "  'thumbnail_url': 'https://covers.openlibrary.org/b/id/7548115-S.jpg'}}"
      ]
     },
     "execution_count": 4,
     "metadata": {},
     "output_type": "execute_result"
    }
   ],
   "source": [
    "data"
   ]
  },
  {
   "cell_type": "code",
   "execution_count": 6,
   "metadata": {},
   "outputs": [
    {
     "data": {
      "image/jpeg": "[encoded data removed]",
      "text/plain": [
       "<IPython.core.display.Image object>"
      ]
     },
     "execution_count": 6,
     "metadata": {},
     "output_type": "execute_result"
    }
   ],
   "source": [
    "from IPython.display import Image\n",
    "\n",
    "Image(data['ISBN:9781449319793']['thumbnail_url'])"
   ]
  }
 ],
 "metadata": {
  "kernelspec": {
   "display_name": "Python 3",
   "language": "python",
   "name": "python3"
  },
  "language_info": {
   "codemirror_mode": {
    "name": "ipython",
    "version": 3
   },
   "file_extension": ".py",
   "mimetype": "text/x-python",
   "name": "python",
   "nbconvert_exporter": "python",
   "pygments_lexer": "ipython3",
   "version": "3.5.2"
  }
 },
 "nbformat": 4,
 "nbformat_minor": 2
}
