{
 "cells": [
  {
   "cell_type": "markdown",
   "metadata": {},
   "source": [
    "## ¿Porqué los informáticos empezamos a contar en el cero?\n",
    "\n",
    "\n",
    "La respuesta rápida es que los ordenadores también prefieren contar empezando por\n",
    "cero, pero hay una respuesta un poco más extensa a continuación.\n",
    "\n",
    "### ¿Cómo podemos expresar una secuencia de números usando solo dos?\n",
    "\n",
    "Hay cuatro formas diferentes de indicar, usando solo dos números, la siguiente secuencia de números naturales: \n",
    "\n",
    "$$2, 3, \\ldots, 12$$\n",
    "\n",
    "Las opciones son:\n",
    "\n",
    "A) $2 \\leq i < 13$\n",
    "\n",
    "B) $1 < i \\leq 12$\n",
    "\n",
    "C) $2 \\leq i \\leq 12$\n",
    "\n",
    "D) $1 < i < 13$\n",
    "\n",
    "¿Hay alguna razón para preferir alguna de estas convenciones sobre las otras? Pues la verdad es que si.\n",
    "\n",
    "De entrada, las opciones A y B tienen la ventaja sobre las otras dos de que la diferencia entre los límites es igual a la longitud de la secuencia ( $ 13-2 == 12-1 == 11 $). Además, y en consecuencia, en los dos casos, si tenemos dos secuencias adyacentes, se da la circunstancia de que el límite superior de la primera coincide con el límite inferior de la segunda:\n",
    "\n",
    "Es decir, que las secuencias $3, 4, \\ldots, 7 $ y $8, 9, \\ldots, 12$ se expresarían de la siguiente manera\n",
    "  \n",
    "|  Opción  | Primera secuencia    | Segunda secuencia  |\n",
    "|----------|----------------------|--------------------|\n",
    "| A        | $3-8$                | $8-13$             |\n",
    "| B        | $2-7$                | $7-12$             |\n",
    "\n",
    "Dos razones muy interesantes y deseables, pero ninguna nos permite elegir entre A y B. Así que empezamos de nuevo.\n",
    "\n",
    "Es un hecho que existe el número natural más pequeño posible: El sistema de _excluir_ el límite inferior (Como en las opciones B y D) implica que para las secuencias que empiecen en el número natural más pequeño, debemos empezar el límite con un número no natural. Esto es feo, así que preferimos usar $\\leq$ para el limite inferior, como en las opciones A y C.\n",
    "\n",
    "Consideremos ahora el conjunto de secuencias que empiezan por el número natural más pequeño: incluir el límite superior sería complicado para la secuencia vacia, así que para el límite superior preferimos no incluirlo, como en las opciones A y D.\n",
    "\n",
    "En conclusión, la convención A parece la más preferible.\n",
    "\n",
    "### Vale, pero ¿Por qué empezar en cero?\n",
    "\n",
    "Cuando trabajamos con una secuencia de *N* elementos, y queremos acceder a los elementos mediante un índice, surge ahora la duda de como indicar el primer elemento. Si seguimos la regla A descrita antes, si usamos $1$ para indicar el primer elemento, la secuencia completa sería $1 \\lte i < N+1$. Empezando con el $0$, sin embargo, nos da la expesión $0 \\lte i < N$, más sencilla. Así que lo más lógico parece usar numerales empezando por el cero, indicando las posiciones por el número de elementos que le preceden en la secuencia.\n",
    "\n",
    "Y la moraleja de la historia es que deberiamos ya -despues de tantos siglos- incluir el cero como el más pequeno de los números naturales.\n",
    "\n",
    "> Traducción más o menos libre del famoso [Why numbering should start at zero](http://www.cs.utexas.edu/users/EWD/transcriptions/EWD08xx/EWD831.html) de [Edgard Dijkstra](https://es.wikipedia.org/wiki/Edsger_Dijkstra)\n",
    ">\n",
    "> Tambien puedes ver la [Versión escaneada del manuscrito \"Why numbering should start at zero\"](http://www.cs.utexas.edu/users/EWD/ewd08xx/EWD831.PDF)"
   ]
  },
  {
   "cell_type": "code",
   "execution_count": null,
   "metadata": {},
   "outputs": [],
   "source": []
  }
 ],
 "metadata": {
  "kernelspec": {
   "display_name": "Python 3",
   "language": "python",
   "name": "python3"
  },
  "language_info": {
   "codemirror_mode": {
    "name": "ipython",
    "version": 3
   },
   "file_extension": ".py",
   "mimetype": "text/x-python",
   "name": "python",
   "nbconvert_exporter": "python",
   "pygments_lexer": "ipython3",
   "version": "3.5.2"
  }
 },
 "nbformat": 4,
 "nbformat_minor": 2
}
