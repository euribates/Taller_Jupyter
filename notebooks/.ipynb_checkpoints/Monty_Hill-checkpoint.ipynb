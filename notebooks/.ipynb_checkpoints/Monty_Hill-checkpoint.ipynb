{
 "cells": [
  {
   "cell_type": "markdown",
   "metadata": {},
   "source": [
    "# El problema de Monty Hall"
   ]
  },
  {
   "cell_type": "markdown",
   "metadata": {},
   "source": [
    "El [**problema de Monty Hall**](https://es.wikipedia.org/wiki/Problema_de_Monty_Hall) es un problema matemático de probabilidad basado en el concurso televisivo estadounidense _Let's Make a Deal_ (Hagamos un trato). El problema fue bautizado con el nombre del presentador de dicho concurso: Monty Hall."
   ]
  },
  {
   "cell_type": "markdown",
   "metadata": {},
   "source": [
    "## La premisa\n",
    "\n",
    "Se ofrece un concurso cuya mecánica es la siguiente:\n",
    "\n",
    "- Al concursante se le ofrece la posibilidad de escoger una entre tres puertas. Tras una\n",
    "  de ellas se encuentra un ~~piso en Toremolinos~~ tesoro, y tras las otras dos, una cabra. \n",
    "  El concursante gana el premio que se oculta detrás de la puerta que escoja.\n",
    " \n",
    "- Después de que el concursante escoja una puerta, el presentador abre una de las otras\n",
    "  dos puertas, mostrando una cabra. Siempre puede hacerlo ya que incluso si el\n",
    "  concursante ha escogido una cabra, queda otra entre las puertas que ha descartado\n",
    "  y el presentador sabe siempre lo que hay detrás de cada puerta.\n",
    "\n",
    "- Entonces, ofrece al concursante la posibilidad de cambiar su elección inicial\n",
    "  y escoger la otra puerta que descartó originalmente, que continúa cerrada.\n",
    "\n",
    "La pregunta es: **¿debe hacerlo o no?**"
   ]
  },
  {
   "cell_type": "markdown",
   "metadata": {},
   "source": [
    "Vamos a demostrarlo por el método de la fuerza bruta. Hagamos miles de simulaciones con un jugador conservador (que se mantienen siempre en su primera elección) y con un jugador innovador (siempre cambia de puerta)."
   ]
  },
  {
   "cell_type": "code",
   "execution_count": 1,
   "metadata": {
    "scrolled": false
   },
   "outputs": [],
   "source": [
    "import random\n",
    "import numpy as np\n",
    "import seaborn\n",
    "import matplotlib.pyplot as plt\n",
    "\n",
    "%matplotlib inline"
   ]
  },
  {
   "cell_type": "code",
   "execution_count": 2,
   "metadata": {},
   "outputs": [
    {
     "name": "stdout",
     "output_type": "stream",
     "text": [
      "{'B', 'A', 'C'}\n"
     ]
    }
   ],
   "source": [
    "# Repesentaremos las puertas con un conjunto\n",
    "\n",
    "puertas = set('ABC')\n",
    "print(puertas)"
   ]
  },
  {
   "cell_type": "code",
   "execution_count": 3,
   "metadata": {},
   "outputs": [
    {
     "name": "stdout",
     "output_type": "stream",
     "text": [
      "El tesoro está en la puerta B\n"
     ]
    }
   ],
   "source": [
    "# ¿Dónde está el coche? Elegimos una puerta al azar\n",
    "tesoro = random.choice(list(puertas))\n",
    "print('El tesoro está en la puerta {}'.format(tesoro))"
   ]
  },
  {
   "cell_type": "code",
   "execution_count": 4,
   "metadata": {},
   "outputs": [
    {
     "name": "stdout",
     "output_type": "stream",
     "text": [
      "El jugador elige la puerta A\n"
     ]
    }
   ],
   "source": [
    "# El jugador elige su puerta. Puede elegir la puerta donde está el tesoro, o no\n",
    "\n",
    "eleccion_jugador = random.choice(list(puertas))\n",
    "print('El jugador elige la puerta {}'.format(eleccion_jugador))"
   ]
  },
  {
   "cell_type": "markdown",
   "metadata": {},
   "source": [
    "Ahora mismo, las posibilidades de acertar la puerta son de 1 contra 3, es decir, que la probabilidad de llevarse el coche a casa es $\\frac 1 3$. Vamos a realizar vaarios intentos a ver si nuestra intuición es correcta."
   ]
  },
  {
   "cell_type": "code",
   "execution_count": 5,
   "metadata": {},
   "outputs": [
    {
     "data": {
      "text/plain": [
       "(array([False, False, False, False,  True, False, False, False, False, False], dtype=bool),\n",
       " array(['B', 'C', 'C', 'B', 'A', 'C', 'B', 'C', 'B', 'C'],\n",
       "       dtype='<U1'),\n",
       " array(['C', 'B', 'A', 'C', 'A', 'B', 'A', 'A', 'C', 'B'],\n",
       "       dtype='<U1'))"
      ]
     },
     "execution_count": 5,
     "metadata": {},
     "output_type": "execute_result"
    }
   ],
   "source": [
    "Intentos = 10\n",
    "tesoros = np.array([random.choice(list(puertas)) for _ in range(Intentos)])\n",
    "elecciones = np.array([random.choice(list(puertas)) for _ in range(Intentos)])\n",
    "aciertos = tesoros == elecciones  # wtf!\n",
    "\n",
    "# ¿Quá es aciertos?\n",
    "aciertos, tesoros, elecciones"
   ]
  },
  {
   "cell_type": "code",
   "execution_count": 6,
   "metadata": {},
   "outputs": [
    {
     "data": {
      "image/png": "[encoded data removed]",
      "text/plain": [
       "<matplotlib.figure.Figure at 0x7fe4c61c1828>"
      ]
     },
     "metadata": {},
     "output_type": "display_data"
    }
   ],
   "source": [
    "plt.plot(tesoros, 'ob')\n",
    "plt.plot(elecciones, '.r');"
   ]
  },
  {
   "cell_type": "markdown",
   "metadata": {},
   "source": [
    "En aqellos casos en los que coincide el círculo azul con el punto rojo, el jugador habrá acertado a la primera"
   ]
  },
  {
   "cell_type": "code",
   "execution_count": 7,
   "metadata": {},
   "outputs": [
    {
     "name": "stdout",
     "output_type": "stream",
     "text": [
      "Ejecutadas 10 simulaciones, el jugador ganó 1 (10.000000 %)\n"
     ]
    }
   ],
   "source": [
    "total_aciertos = np.sum(aciertos)\n",
    "print('Ejecutadas {} simulaciones, el jugador ganó {} ({:2f} %)'.format(\n",
    "    Intentos,\n",
    "    total_aciertos,\n",
    "    (total_aciertos * 100. / Intentos),\n",
    "    ))"
   ]
  },
  {
   "cell_type": "markdown",
   "metadata": {},
   "source": [
    "Continuemos ahora con el resto del concurso. El presentador, que sabe lo que hay detrás de cada puerta, abre una con cabra. En la práctica, eso elimina la puerta del juego: ya no puede ser elegida por el concursante."
   ]
  },
  {
   "cell_type": "code",
   "execution_count": 8,
   "metadata": {},
   "outputs": [
    {
     "name": "stdout",
     "output_type": "stream",
     "text": [
      "El presentador abre la puerta C: Hay una cabra\n"
     ]
    }
   ],
   "source": [
    "opciones = puertas.copy() # De entrada puedo abrir cualquier puerta ...\n",
    "opciones.discard(tesoro)  # ...pero el presentador no es tonto, no abre la del tesoro\n",
    "opciones.discard(eleccion_jugador)  # ... y tampoco puede elegir la del jugador\n",
    "assert len(opciones) == 1 or len(opciones) == 2 # ... pero siempre podre elegir alguna puerta\n",
    "puerta_a_abrir = random.choice(list(opciones))  # ... elige una al azar\n",
    "puertas.discard(puerta_a_abrir)  # ... y la abre (sacandola del juego)\n",
    "assert len(puertas) == 2  # ... quedan dos puertas en juego\n",
    "print('El presentador abre la puerta {}: Hay una cabra'.format(puerta_a_abrir))"
   ]
  },
  {
   "cell_type": "code",
   "execution_count": 9,
   "metadata": {},
   "outputs": [
    {
     "data": {
      "text/plain": [
       "('B', 'A', {'A', 'B'})"
      ]
     },
     "execution_count": 9,
     "metadata": {},
     "output_type": "execute_result"
    }
   ],
   "source": [
    "tesoro, eleccion_jugador, puertas"
   ]
  },
  {
   "cell_type": "code",
   "execution_count": 10,
   "metadata": {},
   "outputs": [],
   "source": [
    "# Que hacemos si el jugador es conservador\n",
    "pass  # nada. Nos quedamos la primera elección"
   ]
  },
  {
   "cell_type": "code",
   "execution_count": 11,
   "metadata": {},
   "outputs": [
    {
     "name": "stdout",
     "output_type": "stream",
     "text": [
      "El jugador cambia a la puerta B\n"
     ]
    }
   ],
   "source": [
    "# Que hacemos si el jugador es innovador\n",
    "# Cambiamos de puerta\n",
    "puertas.discard(eleccion_jugador) # ... solo queda una\n",
    "eleccion_jugador = puertas.pop()  # asi que me cambio\n",
    "print('El jugador cambia a la puerta {}'. format(eleccion_jugador))"
   ]
  },
  {
   "cell_type": "code",
   "execution_count": 12,
   "metadata": {},
   "outputs": [
    {
     "name": "stdout",
     "output_type": "stream",
     "text": [
      "El jugador gana\n"
     ]
    }
   ],
   "source": [
    "if eleccion_jugador == tesoro:\n",
    "    print('El jugador gana')\n",
    "else:\n",
    "    print('El jugador pierde')"
   ]
  },
  {
   "cell_type": "markdown",
   "metadata": {},
   "source": [
    "## Función de simulación del juego\n",
    "\n",
    "Vamos a meter todo esto en una función que simila una sesión de juego. La funcion devuelve `True` si el jugador gana o `False` en caso contrario. Acepta un parámetro, conservador, por defecto `True`, que determina el comportamiento del jugador: si es conservador, no cambia nunca de puerta, en caso contrario, cambia siempre:\n"
   ]
  },
  {
   "cell_type": "code",
   "execution_count": 13,
   "metadata": {},
   "outputs": [],
   "source": [
    "def simula_sesion_juego(conservador=True):\n",
    "    puertas = set('ABC')  # tenemos 3 puertas\n",
    "    tesoro = random.choice(list(puertas))\n",
    "    eleccion_jugador = random.choice(list(puertas))\n",
    "    # descartamos una puerta con cabra\n",
    "    opciones = puertas.copy() # De entrada puedo abrir cualquier puerta ...\n",
    "    opciones.discard(tesoro)  # ...pero el presentador no es tonto, no abre la del tesoro\n",
    "    opciones.discard(eleccion_jugador)  # ... y tampoco puede elegir la del jugador\n",
    "    assert len(opciones) == 1 or len(opciones) == 2 # ... pero siempre podre elegir alguna puerta\n",
    "    puerta_a_abrir = random.choice(list(opciones))  # ... elige una al azar\n",
    "    puertas.discard(puerta_a_abrir)  # ... y la abre (sacandola del juego)\n",
    "    assert len(puertas) == 2  # ... quedan dos puertas en juego\n",
    "    if conservador:\n",
    "        pass  # Nah, me quedo con la que elegi al principio\n",
    "    else:\n",
    "        puertas.discard(eleccion_jugador) # ... solo queda una, aparte de la mia\n",
    "        eleccion_jugador = puertas.pop()  # asi que me cambio\n",
    "    return tesoro == eleccion_jugador"
   ]
  },
  {
   "cell_type": "markdown",
   "metadata": {},
   "source": [
    "Ejecutemos varias simulaciones, a ver que estrategia es la ganadora a largo plazo"
   ]
  },
  {
   "cell_type": "code",
   "execution_count": 14,
   "metadata": {},
   "outputs": [
    {
     "name": "stdout",
     "output_type": "stream",
     "text": [
      "Realizadas 10000 simulaciones:\n",
      "- la estrategia conservadora gana 3367 veces\n",
      "- la estrategia innovadora gana 6633 veces\n"
     ]
    }
   ],
   "source": [
    "num_veces_gana_conservador = 0\n",
    "num_veces_gana_innovador = 0\n",
    "num_simulaciones = 10000\n",
    "for i in range(num_simulaciones):\n",
    "    if simula_sesion_juego():\n",
    "        num_veces_gana_conservador += 1\n",
    "    else:\n",
    "        num_veces_gana_innovador += 1\n",
    "\n",
    "print('''Realizadas {} simulaciones:\n",
    "- la estrategia conservadora gana {} veces\n",
    "- la estrategia innovadora gana {} veces'''.format(\n",
    "    num_simulaciones,\n",
    "    num_veces_gana_conservador,\n",
    "    num_veces_gana_innovador,\n",
    "))"
   ]
  },
  {
   "cell_type": "code",
   "execution_count": 15,
   "metadata": {},
   "outputs": [
    {
     "data": {
      "image/png": "[encoded data removed]",
      "text/plain": [
       "<matplotlib.figure.Figure at 0x7fe50421fdd8>"
      ]
     },
     "metadata": {},
     "output_type": "display_data"
    }
   ],
   "source": [
    "data = [num_simulaciones, num_veces_gana_conservador, num_veces_gana_innovador]\n",
    "pos = list(range(len(data)))\n",
    "plt.barh(pos, data, color='#336699')\n",
    "plt.yticks(pos, ('Total', 'Conservador', 'Innvador'));"
   ]
  },
  {
   "cell_type": "markdown",
   "metadata": {},
   "source": [
    "# Extra bonus"
   ]
  },
  {
   "cell_type": "markdown",
   "metadata": {},
   "source": [
    "Vamos a ver como, a medida que realizamos más simulaciones, la proporción de veces que gana el innovador se aproxima a $\\frac 2 3$, y la del conservador a $\\frac 1 3$."
   ]
  },
  {
   "cell_type": "code",
   "execution_count": 16,
   "metadata": {
    "scrolled": true
   },
   "outputs": [
    {
     "data": {
      "image/png": "[encoded data removed]",
      "text/plain": [
       "<matplotlib.figure.Figure at 0x7fe4c4165908>"
      ]
     },
     "metadata": {},
     "output_type": "display_data"
    }
   ],
   "source": [
    "sec_cons = []\n",
    "sec_inno = []\n",
    "for num_simulaciones in range(10, 4000, 100):\n",
    "    arr = np.array([simula_sesion_juego() for _ in range(num_simulaciones)])\n",
    "    num_veces_gana_conservador = np.sum(arr)\n",
    "    sec_cons.append(num_veces_gana_conservador / num_simulaciones)\n",
    "    num_veces_gana_innovador = num_simulaciones - num_veces_gana_conservador\n",
    "    sec_inno.append(num_veces_gana_innovador / num_simulaciones)\n",
    "plt.plot(sec_cons, label='cons.', color='red')\n",
    "plt.plot(sec_inno, label='inno.', color=\"green\")\n",
    "\n",
    "plt.legend();"
   ]
  },
  {
   "cell_type": "markdown",
   "metadata": {},
   "source": [
    "## Extra Bonus 2"
   ]
  },
  {
   "cell_type": "code",
   "execution_count": 17,
   "metadata": {},
   "outputs": [
    {
     "data": {
      "text/html": [
       "\n",
       "<iframe width=\"560\" height=\"315\"\n",
       "src=\"https://www.youtube.com/embed/ZpgIaAOeIAY?rel=0\" frameborder=\"0\" allowfullscreen></iframe>\n"
      ],
      "text/plain": [
       "<IPython.core.display.HTML object>"
      ]
     },
     "execution_count": 17,
     "metadata": {},
     "output_type": "execute_result"
    }
   ],
   "source": [
    "from IPython.display import HTML\n",
    "\n",
    "HTML('''\n",
    "<iframe width=\"560\" height=\"315\"\n",
    "src=\"https://www.youtube.com/embed/ZpgIaAOeIAY?rel=0\" frameborder=\"0\" allowfullscreen></iframe>\n",
    "''')\n"
   ]
  },
  {
   "cell_type": "code",
   "execution_count": null,
   "metadata": {},
   "outputs": [],
   "source": []
  }
 ],
 "metadata": {
  "kernelspec": {
   "display_name": "Python 3",
   "language": "python",
   "name": "python3"
  },
  "language_info": {
   "codemirror_mode": {
    "name": "ipython",
    "version": 3
   },
   "file_extension": ".py",
   "mimetype": "text/x-python",
   "name": "python",
   "nbconvert_exporter": "python",
   "pygments_lexer": "ipython3",
   "version": "3.5.2"
  }
 },
 "nbformat": 4,
 "nbformat_minor": 2
}
