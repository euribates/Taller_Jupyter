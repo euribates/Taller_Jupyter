{
 "cells": [
  {
   "cell_type": "markdown",
   "metadata": {},
   "source": [
    "## Modificación de clases después de su creación\n",
    "\n",
    "Podemos añadir atributos y métodos a una clase, incluso después de su creación, simplemente\n",
    "con una asignacion:"
   ]
  },
  {
   "cell_type": "code",
   "execution_count": 8,
   "metadata": {
    "collapsed": false
   },
   "outputs": [
    {
     "name": "stdout",
     "output_type": "stream",
     "text": [
      "hola, x\n"
     ]
    }
   ],
   "source": [
    "class A:\n",
    "    x = 'hola, x'\n",
    "    \n",
    "    \n",
    "a = A()\n",
    "print(a.x)"
   ]
  },
  {
   "cell_type": "markdown",
   "metadata": {},
   "source": [
    "La variable `x` creada es una variable de clase, es decir, es\n",
    "compartida por todas las instancias de a:"
   ]
  },
  {
   "cell_type": "code",
   "execution_count": 9,
   "metadata": {
    "collapsed": false
   },
   "outputs": [
    {
     "name": "stdout",
     "output_type": "stream",
     "text": [
      "hola, x | hola, x\n",
      "soy x, pero transformado | soy x, pero transformado\n"
     ]
    }
   ],
   "source": [
    "a1 = A()\n",
    "a2 = A()\n",
    "print(a1.x, a2.x, sep=' | ')\n",
    "A.x = 'soy x, pero transformado'\n",
    "print(a1.x, a2.x, sep=' | ')\n",
    "assert a1.x == a2.x"
   ]
  },
  {
   "cell_type": "markdown",
   "metadata": {},
   "source": [
    "Si asignamos a un objeto de clase `A` un atributo con el mismo nombre del atributo\n",
    "de clase, en este caso `x`, el nuevo atributo local oculta o enmascara el atributo\n",
    "de la clase:"
   ]
  },
  {
   "cell_type": "code",
   "execution_count": 11,
   "metadata": {
    "collapsed": false
   },
   "outputs": [
    {
     "name": "stdout",
     "output_type": "stream",
     "text": [
      "a1.x = \"soy x\" | a2.x = \"soy x, pero local\"\n"
     ]
    }
   ],
   "source": [
    "class A():\n",
    "    x = 'soy x'\n",
    "    \n",
    "a1 = A()\n",
    "a2 = A() ; a2.x = 'soy x, pero local'\n",
    "print('a1.x = \"{}\" | a2.x = \"{}\"'.format(a1.x, a2.x))"
   ]
  },
  {
   "cell_type": "markdown",
   "metadata": {},
   "source": [
    "Puede que sea lo que queramos, pero lo más habitual es que queramos que al asignar a `x`\n",
    "cambiemos el valor de la variable de clase, no que nos cree una variable local nueva. Una forma\n",
    "muy sencilla y elegante es unas propiedades. Definimos los métodos `__set__` y `__get__` (y, de ser\n",
    "necesario, `__del__`) para que lean y modifiquen el valor de clase:"
   ]
  },
  {
   "cell_type": "code",
   "execution_count": 13,
   "metadata": {
    "collapsed": false
   },
   "outputs": [
    {
     "name": "stdout",
     "output_type": "stream",
     "text": [
      "a1.x = \"soy x\" | a2.x = \"soy x\"\n",
      "a1.x = \"soy x\" | a2.x = \"soy x\"\n"
     ]
    }
   ],
   "source": [
    "\n",
    "\n",
    "class A:\n",
    "    x = 'soy x'\n",
    "    \n",
    "    @property\n",
    "    def set_x(self, value):\n",
    "        A.x = value\n",
    "        \n",
    "    @property\n",
    "    def get_x(self):\n",
    "        return A.x\n",
    "    \n",
    "a1 = A()\n",
    "a2 = A()\n",
    "assert a1.x == a2.x\n",
    "assert a1.x is a2.x\n",
    "print('a1.x = \"{}\" | a2.x = \"{}\"'.format(a1.x, a2.x))\n",
    "a.x = 'Soy x, pero transformado'\n",
    "assert a1.x == a2.x\n",
    "assert a1.x is a2.x\n",
    "print('a1.x = \"{}\" | a2.x = \"{}\"'.format(a1.x, a2.x))"
   ]
  },
  {
   "cell_type": "code",
   "execution_count": null,
   "metadata": {
    "collapsed": true
   },
   "outputs": [],
   "source": []
  }
 ],
 "metadata": {
  "kernelspec": {
   "display_name": "Python 3",
   "language": "python",
   "name": "python3"
  },
  "language_info": {
   "codemirror_mode": {
    "name": "ipython",
    "version": 3
   },
   "file_extension": ".py",
   "mimetype": "text/x-python",
   "name": "python",
   "nbconvert_exporter": "python",
   "pygments_lexer": "ipython3",
   "version": "3.4.3"
  }
 },
 "nbformat": 4,
 "nbformat_minor": 2
}
