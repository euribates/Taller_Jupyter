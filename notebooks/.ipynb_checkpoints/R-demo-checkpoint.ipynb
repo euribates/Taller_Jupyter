{
 "cells": [
  {
   "cell_type": "markdown",
   "metadata": {},
   "source": [
    "# Apuntes sobre R"
   ]
  },
  {
   "cell_type": "markdown",
   "metadata": {},
   "source": [
    "## Introducción a R\n",
    "\n",
    "El lenguaje y entorno de progrmación **R** está especialmente orientado al\n",
    "análisis estadístico, representación gráfica y generación de informes. R fue\n",
    "creado por Ross Ihaka y Robert Gentleman de la Universidad de Auckland, Nueva\n",
    "Zelanda, y está desarrollado y mantenido por el grupo _R Development Core\n",
    "Team_. Es un lenguaje interpretado, modular, completo y permite integración con\n",
    "librerías escritas en C, C++, .Net, Python o Fortran.\n"
   ]
  },
  {
   "cell_type": "markdown",
   "metadata": {},
   "source": [
    "### Hola, Mundo"
   ]
  },
  {
   "cell_type": "code",
   "execution_count": 16,
   "metadata": {},
   "outputs": [
    {
     "name": "stdout",
     "output_type": "stream",
     "text": [
      "[1] \"Hello World\"\n",
      "[1] 35.5\n"
     ]
    }
   ],
   "source": [
    "# Print Hello World.\n",
    "print(\"Hello World\")\n",
    "\n",
    "# Add two numbers.\n",
    "print(23.9 + 11.6)"
   ]
  },
  {
   "cell_type": "markdown",
   "metadata": {},
   "source": [
    "### Asignación"
   ]
  },
  {
   "cell_type": "code",
   "execution_count": 21,
   "metadata": {},
   "outputs": [
    {
     "name": "stdout",
     "output_type": "stream",
     "text": [
      "[1] \"Hola, mundo\"\n",
      "[1] \"Mery has a little lamb\"\n",
      "[1] \"simple and easy\"\n"
     ]
    }
   ],
   "source": [
    "s <- \"Hola, mundo\"\n",
    "print(s)\n",
    "\n",
    "# Pero también se puede asignar de izquierda a derecha, esto mola\n",
    "\n",
    "\"Mery has a little lamb\" -> song\n",
    "print(song)\n",
    "\n",
    "# Y también podemos usar el signo igual\n",
    "s = 'simple and easy'\n",
    "print(s)"
   ]
  },
  {
   "cell_type": "markdown",
   "metadata": {},
   "source": [
    "### Variables\n",
    "\n",
    "La declaración del tipo de las variables no es obligatoria, se deduce\n",
    "del contenido asignado a la variable, igual que en Python. Los tipos\n",
    "de datos básicos de R son:\n",
    "\n",
    "| Tipo      | Ejemplos     |\n",
    "|-----------|--------------|\n",
    "| Boolean   | TRUE / FALSE |\n",
    "| Numeric   | 12.3, 5, 999 |\n",
    "| Integer   | 2L, 23L      |\n",
    "| Complex   | 3x2i         |\n",
    "| Character | 'a', \"bcD\"   |\n",
    "| Raw       | Binario      |\n",
    "\n",
    "Los tipos compuestos son:\n",
    "\n",
    "- Vectores\n",
    "- Lists\n",
    "- Matrices\n",
    "- Arrays\n",
    "- Factors\n",
    "- Data Frames\n"
   ]
  },
  {
   "cell_type": "markdown",
   "metadata": {},
   "source": [
    "### Vectores"
   ]
  },
  {
   "cell_type": "markdown",
   "metadata": {},
   "source": [
    "Para crear un vector se usa la función `c()` que combina todos los elementos\n",
    "que le pasemos en un vector.\n"
   ]
  },
  {
   "cell_type": "code",
   "execution_count": 7,
   "metadata": {},
   "outputs": [
    {
     "name": "stdout",
     "output_type": "stream",
     "text": [
      "[1] \"23\"   \"45\"   \"34\"   \"Hola\"\n"
     ]
    }
   ],
   "source": [
    "v <- c(23, 45, 34, \"Hola\")\n",
    "print(v)"
   ]
  },
  {
   "cell_type": "markdown",
   "metadata": {},
   "source": [
    "### Matrices\n",
    "\n",
    "Una matríz (_Matrix_) es una estructura de datos bidimensional, rectangular. Se puede crear usando un vector de entrada con la función `matrix()`."
   ]
  },
  {
   "cell_type": "code",
   "execution_count": 11,
   "metadata": {},
   "outputs": [
    {
     "name": "stdout",
     "output_type": "stream",
     "text": [
      "     [,1] [,2] [,3]\n",
      "[1,] \"a\"  \"b\"  \"c\" \n",
      "[2,] \"d\"  \"e\"  \"f\" \n"
     ]
    }
   ],
   "source": [
    "# Create a matrix.\n",
    "M <- matrix( c('a','b','c','d','e','f'), nrow = 2, ncol = 3, byrow = TRUE)\n",
    "print(M)"
   ]
  },
  {
   "cell_type": "markdown",
   "metadata": {},
   "source": [
    "### Arrays\n",
    "\n",
    "Las matrices estan restringidas a dos dimensiones, mientras que las arrays no tienen esa limitación. La función `array()` acepta un parámetro `dim` para especificar el número de dimensiones. En el siguiente ejemplo lo usamos para crear una metríz cúbica de 3 por 3 por 2:"
   ]
  },
  {
   "cell_type": "code",
   "execution_count": 13,
   "metadata": {},
   "outputs": [
    {
     "name": "stdout",
     "output_type": "stream",
     "text": [
      ", , 1\n",
      "\n",
      "     [,1]       [,2]       [,3]      \n",
      "[1,] \"rojo\"     \"rojo\"     \"rojo\"    \n",
      "[2,] \"verde\"    \"verde\"    \"verde\"   \n",
      "[3,] \"amarillo\" \"amarillo\" \"amarillo\"\n",
      "\n",
      ", , 2\n",
      "\n",
      "     [,1]       [,2]       [,3]      \n",
      "[1,] \"rojo\"     \"rojo\"     \"rojo\"    \n",
      "[2,] \"verde\"    \"verde\"    \"verde\"   \n",
      "[3,] \"amarillo\" \"amarillo\" \"amarillo\"\n",
      "\n"
     ]
    }
   ],
   "source": [
    "# Create an array.\n",
    "a <- array(c('rojo', 'verde', 'amarillo'),dim = c(3,3,2))\n",
    "print(a)"
   ]
  },
  {
   "cell_type": "markdown",
   "metadata": {},
   "source": [
    "### Data Frames\n",
    "\n",
    "Data frames are tabular data objects. Unlike a matrix in data frame each column can contain different modes of data. The first column can be numeric while the second column can be character and third column can be logical. It is a list of vectors of equal length.\n",
    "\n",
    "Se pueden crear con la función `data.frame()`."
   ]
  },
  {
   "cell_type": "code",
   "execution_count": 19,
   "metadata": {},
   "outputs": [
    {
     "name": "stdout",
     "output_type": "stream",
     "text": [
      "  gender height weight Age\n",
      "1   Male  152.0     81  42\n",
      "2   Male  171.5     93  38\n",
      "3 Female  165.0     78  26\n"
     ]
    }
   ],
   "source": [
    "# Create the data frame.\n",
    "BMI <- \tdata.frame(\n",
    "   gender = c(\"Male\", \"Male\",\"Female\"), \n",
    "   height = c(152, 171.5, 165), \n",
    "   weight = c(81,93, 78),\n",
    "   Age = c(42,38,26)\n",
    ")\n",
    "print(BMI)"
   ]
  },
  {
   "cell_type": "code",
   "execution_count": 24,
   "metadata": {},
   "outputs": [
    {
     "name": "stdout",
     "output_type": "stream",
     "text": [
      "[1] \"a\"    \"BMI\"  \"M\"    \"s\"    \"song\" \"v\"   \n"
     ]
    }
   ],
   "source": [
    "# Podemos listar las variables que están ahora mismo en memoria con la función  `ls()`.\n",
    "print(ls())"
   ]
  },
  {
   "cell_type": "code",
   "execution_count": null,
   "metadata": {},
   "outputs": [],
   "source": []
  }
 ],
 "metadata": {
  "kernelspec": {
   "display_name": "R",
   "language": "R",
   "name": "ir"
  },
  "language_info": {
   "codemirror_mode": "r",
   "file_extension": ".r",
   "mimetype": "text/x-r-source",
   "name": "R",
   "pygments_lexer": "r",
   "version": "3.2.3"
  }
 },
 "nbformat": 4,
 "nbformat_minor": 2
}
