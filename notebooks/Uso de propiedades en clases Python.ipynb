{
 "cells": [
  {
   "cell_type": "markdown",
   "metadata": {},
   "source": [
    "# Uso de propiedades (property) en Python"
   ]
  },
  {
   "cell_type": "markdown",
   "metadata": {},
   "source": [
    "Supongamos una clase `A`, con un atributo `x`."
   ]
  },
  {
   "cell_type": "code",
   "execution_count": 93,
   "metadata": {
    "collapsed": true
   },
   "outputs": [],
   "source": [
    "class A:\n",
    "    def __init__(self, v=0):\n",
    "        self.x = v"
   ]
  },
  {
   "cell_type": "code",
   "execution_count": 94,
   "metadata": {
    "collapsed": false
   },
   "outputs": [
    {
     "name": "stdout",
     "output_type": "stream",
     "text": [
      "46\n"
     ]
    }
   ],
   "source": [
    "a = A();   assert a.x == 0\n",
    "a.x = 45;  assert a.x == 45\n",
    "a.x += 1;  assert a.x == 46\n",
    "print(a.x)"
   ]
  },
  {
   "cell_type": "markdown",
   "metadata": {},
   "source": [
    "Pero ahora queremos que `x` solo se pueda limitar a los valores comprendidos entre\n",
    "0 y 100. Tenemos que conseguir que la asignación a x se convierta en un código\n",
    "nuestro."
   ]
  },
  {
   "cell_type": "markdown",
   "metadata": {},
   "source": [
    "## Usando la función `property`"
   ]
  },
  {
   "cell_type": "code",
   "execution_count": 95,
   "metadata": {
    "collapsed": true
   },
   "outputs": [],
   "source": [
    "class A:\n",
    "    def __init__(self, v=0):\n",
    "        self.set_x(v)\n",
    "        \n",
    "    def set_x(self, value):\n",
    "        print('Llama a set_x')\n",
    "        if 0 <= value <= 100:\n",
    "            self._x = value\n",
    "        else:\n",
    "            raise ValueError('El atributo x debe ser en el rango 0...100')\n",
    "            \n",
    "    def get_x(self):\n",
    "        print('Llama a get_x')\n",
    "        return self._x\n",
    "    \n",
    "    x = property(get_x, set_x)"
   ]
  },
  {
   "cell_type": "code",
   "execution_count": 96,
   "metadata": {
    "collapsed": false
   },
   "outputs": [
    {
     "name": "stdout",
     "output_type": "stream",
     "text": [
      "Llama a set_x\n",
      "Llama a get_x\n",
      "Llama a set_x\n",
      "Llama a get_x\n",
      "Llama a get_x\n",
      "Llama a set_x\n",
      "Llama a get_x\n",
      "Llama a get_x\n",
      "46\n"
     ]
    }
   ],
   "source": [
    "a = A();   assert a.x == 0\n",
    "a.x = 45;  assert a.x == 45\n",
    "a.x += 1;  assert a.x == 46\n",
    "print(a.x)"
   ]
  },
  {
   "cell_type": "code",
   "execution_count": 97,
   "metadata": {
    "collapsed": false
   },
   "outputs": [
    {
     "name": "stdout",
     "output_type": "stream",
     "text": [
      "Llama a set_x\n",
      "Ok, no podemos asignar el valor 101 furera del rango\n"
     ]
    }
   ],
   "source": [
    "try:\n",
    "    a.x = 101\n",
    "except ValueError:\n",
    "    print('Ok, no podemos asignar el valor 101 furera del rango')"
   ]
  },
  {
   "cell_type": "markdown",
   "metadata": {},
   "source": [
    "Ojo, aun pudemos acceder a la variable interna `_x`. Aquí se aplica la regla o\n",
    "costumbre que dice que las variables que empiezan por el caracter `_` deben considerarse\n",
    "de uso privado, pero es una regla para los humanos, al interprete de Python se la trae al pairo:"
   ]
  },
  {
   "cell_type": "code",
   "execution_count": 98,
   "metadata": {
    "collapsed": false
   },
   "outputs": [
    {
     "name": "stdout",
     "output_type": "stream",
     "text": [
      "Llama a get_x\n"
     ]
    }
   ],
   "source": [
    "a._x = 101  # No debería hacerse esto, pero tú sabras...\n",
    "assert a.x == 101"
   ]
  },
  {
   "cell_type": "markdown",
   "metadata": {},
   "source": [
    "## Usando decoradores"
   ]
  },
  {
   "cell_type": "markdown",
   "metadata": {},
   "source": [
    "Si queremos un atributo de solo lectura es más fácil usando `property` como un decorador.\n",
    "\n",
    "En este caso:\n",
    "    \n",
    "    @proporty\n",
    "    def x(self, value):\n",
    "        ...\n",
    "\n",
    "Es lo mismo que\n",
    "\n",
    "    def x(self):\n",
    "        ...\n",
    "    x = property(x)"
   ]
  },
  {
   "cell_type": "code",
   "execution_count": 99,
   "metadata": {
    "collapsed": true
   },
   "outputs": [],
   "source": [
    "class A:\n",
    "    def __init__(self, v=0):\n",
    "        self._x = v\n",
    "        \n",
    "    @property\n",
    "    def x(self):\n",
    "        return self._x"
   ]
  },
  {
   "cell_type": "code",
   "execution_count": 100,
   "metadata": {
    "collapsed": false
   },
   "outputs": [
    {
     "name": "stdout",
     "output_type": "stream",
     "text": [
      "0\n"
     ]
    }
   ],
   "source": [
    "a = A()\n",
    "print(a.x)"
   ]
  },
  {
   "cell_type": "code",
   "execution_count": 101,
   "metadata": {
    "collapsed": false
   },
   "outputs": [
    {
     "name": "stdout",
     "output_type": "stream",
     "text": [
      "Ok, no nos deja asignar el atributo x\n"
     ]
    }
   ],
   "source": [
    "try:\n",
    "    a.x = 2\n",
    "except AttributeError as err:\n",
    "    print('Ok, no nos deja asignar el atributo x')"
   ]
  },
  {
   "cell_type": "markdown",
   "metadata": {},
   "source": [
    "Si queremos lectura/escritura, o incluso lectura/escritura/borrado, la sintaxis es un poco más fea en mi opinión"
   ]
  },
  {
   "cell_type": "code",
   "execution_count": 102,
   "metadata": {
    "collapsed": false
   },
   "outputs": [],
   "source": [
    "class A:\n",
    "    def __init__(self, v=0):\n",
    "        self._x = v\n",
    "        \n",
    "    @property\n",
    "    def x(self):\n",
    "        return self._x\n",
    "    \n",
    "    @x.setter\n",
    "    def x(self, value):\n",
    "        if 0 <= value <= 100:\n",
    "            self._x = value\n",
    "        else:\n",
    "            raise ValueError('x debe estar en el rango [0..100]')"
   ]
  },
  {
   "cell_type": "code",
   "execution_count": 103,
   "metadata": {
    "collapsed": false
   },
   "outputs": [
    {
     "name": "stdout",
     "output_type": "stream",
     "text": [
      "46\n"
     ]
    }
   ],
   "source": [
    "a = A();   assert a.x == 0\n",
    "a.x = 45;  assert a.x == 45\n",
    "a.x += 1;  assert a.x == 46\n",
    "print(a.x)"
   ]
  },
  {
   "cell_type": "code",
   "execution_count": null,
   "metadata": {
    "collapsed": true
   },
   "outputs": [],
   "source": []
  }
 ],
 "metadata": {
  "kernelspec": {
   "display_name": "Python 3",
   "language": "python",
   "name": "python3"
  },
  "language_info": {
   "codemirror_mode": {
    "name": "ipython",
    "version": 3
   },
   "file_extension": ".py",
   "mimetype": "text/x-python",
   "name": "python",
   "nbconvert_exporter": "python",
   "pygments_lexer": "ipython3",
   "version": "3.5.2"
  }
 },
 "nbformat": 4,
 "nbformat_minor": 2
}
