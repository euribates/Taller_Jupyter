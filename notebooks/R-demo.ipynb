{
 "cells": [
  {
   "cell_type": "markdown",
   "metadata": {},
   "source": [
    "# Apuntes sobre R"
   ]
  },
  {
   "cell_type": "markdown",
   "metadata": {},
   "source": [
    "## Introducción a R\n",
    "\n",
    "El lenguaje y entorno de progrmación **R** está especialmente orientado al\n",
    "análisis estadístico, representación gráfica y generación de informes. R fue\n",
    "creado por Ross Ihaka y Robert Gentleman de la Universidad de Auckland, Nueva\n",
    "Zelanda, y está desarrollado y mantenido por el grupo _R Development Core\n",
    "Team_. Es un lenguaje interpretado, modular, completo y permite integración con\n",
    "librerías escritas en C, C++, .Net, Python o Fortran.\n"
   ]
  },
  {
   "cell_type": "markdown",
   "metadata": {},
   "source": [
    "### Hola, Mundo"
   ]
  },
  {
   "cell_type": "code",
   "execution_count": 1,
   "metadata": {},
   "outputs": [
    {
     "name": "stdout",
     "output_type": "stream",
     "text": [
      "[1] \"Hello World\"\n",
      "[1] 35.5\n"
     ]
    }
   ],
   "source": [
    "# Print Hello World.\n",
    "print(\"Hello World\")\n",
    "\n",
    "# Add two numbers.\n",
    "print(23.9 + 11.6)"
   ]
  },
  {
   "cell_type": "markdown",
   "metadata": {},
   "source": [
    "### Asignación"
   ]
  },
  {
   "cell_type": "code",
   "execution_count": 3,
   "metadata": {},
   "outputs": [
    {
     "name": "stdout",
     "output_type": "stream",
     "text": [
      "[1] \"Hola, mundo\"\n",
      "[1] \"Mery has a little lamb\"\n",
      "[1] \"simple and easy\"\n"
     ]
    }
   ],
   "source": [
    "s <- \"Hola, mundo\"\n",
    "print(s)\n",
    "\n",
    "# Pero también se puede asignar de izquierda a derecha, esto mola\n",
    "\n",
    "\"Mery has a little lamb\" -> song\n",
    "print(song)\n",
    "\n",
    "# Y también podemos usar el signo igual\n",
    "s = 'simple and easy'\n",
    "print(s)\n",
    "\n",
    "# Por cierto, los comentarios empiezan por #, como en Python"
   ]
  },
  {
   "cell_type": "markdown",
   "metadata": {},
   "source": [
    "### Variables\n",
    "\n",
    "La declaración del tipo de las variables no es obligatoria, se deduce\n",
    "del contenido asignado a la variable, igual que en Python. Los tipos\n",
    "de datos básicos de R son:\n",
    "\n",
    "| Tipo      | Ejemplos     |\n",
    "|-----------|--------------|\n",
    "| Boolean   | TRUE / FALSE |\n",
    "| Numeric   | 12.3, 5, 999 |\n",
    "| Integer   | 2L, 23L      |\n",
    "| Complex   | 3x2i         |\n",
    "| Character | 'a', \"bcD\"   |\n",
    "| Raw       | Binario      |\n",
    "\n",
    "Los tipos compuestos son:\n",
    "\n",
    "- Vectores\n",
    "- Lists\n",
    "- Matrices\n",
    "- Arrays\n",
    "- Factors\n",
    "- Data Frames\n"
   ]
  },
  {
   "cell_type": "markdown",
   "metadata": {},
   "source": [
    "### Vectores"
   ]
  },
  {
   "cell_type": "markdown",
   "metadata": {},
   "source": [
    "Para crear un vector se usa la función `c()` que combina todos los elementos\n",
    "que le pasemos en un vector.\n"
   ]
  },
  {
   "cell_type": "code",
   "execution_count": 4,
   "metadata": {},
   "outputs": [
    {
     "name": "stdout",
     "output_type": "stream",
     "text": [
      "[1] \"23\"   \"45\"   \"34\"   \"Hola\"\n"
     ]
    }
   ],
   "source": [
    "v <- c(23, 45, 34, \"Hola\")\n",
    "print(v)"
   ]
  },
  {
   "cell_type": "code",
   "execution_count": null,
   "metadata": {},
   "outputs": [],
   "source": []
  },
  {
   "cell_type": "markdown",
   "metadata": {},
   "source": [
    "Los vectores permiten operar con ellos con expresiones matemáticas, que operan sobre cada elemento del vector:"
   ]
  },
  {
   "cell_type": "code",
   "execution_count": 8,
   "metadata": {
    "scrolled": true
   },
   "outputs": [
    {
     "data": {
      "text/html": [
       "<ol class=list-inline>\n",
       "\t<li>6</li>\n",
       "\t<li>8</li>\n",
       "\t<li>10</li>\n",
       "\t<li>12</li>\n",
       "</ol>\n"
      ],
      "text/latex": [
       "\\begin{enumerate*}\n",
       "\\item 6\n",
       "\\item 8\n",
       "\\item 10\n",
       "\\item 12\n",
       "\\end{enumerate*}\n"
      ],
      "text/markdown": [
       "1. 6\n",
       "2. 8\n",
       "3. 10\n",
       "4. 12\n",
       "\n",
       "\n"
      ],
      "text/plain": [
       "[1]  6  8 10 12"
      ]
     },
     "metadata": {},
     "output_type": "display_data"
    }
   ],
   "source": [
    "c(1,2,3,4) + c(5,6,7,8)"
   ]
  },
  {
   "cell_type": "markdown",
   "metadata": {},
   "source": [
    "Pero las operaciones darán arror si alguno de los datos en el vector no soportan la operación:"
   ]
  },
  {
   "cell_type": "code",
   "execution_count": 10,
   "metadata": {},
   "outputs": [
    {
     "ename": "ERROR",
     "evalue": "Error in c(23, 45, 34, \"Hola\") + c(1, 2, 3, 4): argumento no-numérico para operador binario\n",
     "output_type": "error",
     "traceback": [
      "Error in c(23, 45, 34, \"Hola\") + c(1, 2, 3, 4): argumento no-numérico para operador binario\nTraceback:\n"
     ]
    }
   ],
   "source": [
    "c(23, 45, 34, \"Hola\") + c(1, 2, 3, 4)"
   ]
  },
  {
   "cell_type": "markdown",
   "metadata": {},
   "source": [
    " Una forma muy rápida y cómoda de generar una secuencia de números es la expresión:\n",
    " \n",
    "     <límite inferior>:<límite superior>\n",
    "     \n",
    "por ejemplo:"
   ]
  },
  {
   "cell_type": "code",
   "execution_count": 6,
   "metadata": {},
   "outputs": [
    {
     "data": {
      "text/html": [
       "<ol class=list-inline>\n",
       "\t<li>1</li>\n",
       "\t<li>2</li>\n",
       "\t<li>3</li>\n",
       "\t<li>4</li>\n",
       "\t<li>5</li>\n",
       "\t<li>6</li>\n",
       "\t<li>7</li>\n",
       "\t<li>8</li>\n",
       "\t<li>9</li>\n",
       "\t<li>10</li>\n",
       "\t<li>11</li>\n",
       "\t<li>12</li>\n",
       "</ol>\n"
      ],
      "text/latex": [
       "\\begin{enumerate*}\n",
       "\\item 1\n",
       "\\item 2\n",
       "\\item 3\n",
       "\\item 4\n",
       "\\item 5\n",
       "\\item 6\n",
       "\\item 7\n",
       "\\item 8\n",
       "\\item 9\n",
       "\\item 10\n",
       "\\item 11\n",
       "\\item 12\n",
       "\\end{enumerate*}\n"
      ],
      "text/markdown": [
       "1. 1\n",
       "2. 2\n",
       "3. 3\n",
       "4. 4\n",
       "5. 5\n",
       "6. 6\n",
       "7. 7\n",
       "8. 8\n",
       "9. 9\n",
       "10. 10\n",
       "11. 11\n",
       "12. 12\n",
       "\n",
       "\n"
      ],
      "text/plain": [
       " [1]  1  2  3  4  5  6  7  8  9 10 11 12"
      ]
     },
     "metadata": {},
     "output_type": "display_data"
    },
    {
     "name": "stdout",
     "output_type": "stream",
     "text": [
      " [1] -5 -4 -3 -2 -1  0  1  2  3  4  5\n"
     ]
    }
   ],
   "source": [
    "1:12\n",
    "\n",
    "-5:5 -> l\n",
    "print(l)"
   ]
  },
  {
   "cell_type": "markdown",
   "metadata": {},
   "source": [
    "A diferencia de la función `range` de Python, se incluyen también el límite superior en el resultado. Se puede usar una sintaxis parecida a la de los _slices_ de Python, con la diferencia de que aquí se usan posiciones (empezando por el uno), no índices, y que el elemento final también está incuido. es decir:"
   ]
  },
  {
   "cell_type": "code",
   "execution_count": 25,
   "metadata": {},
   "outputs": [
    {
     "data": {
      "text/html": [
       "TRUE"
      ],
      "text/latex": [
       "TRUE"
      ],
      "text/markdown": [
       "TRUE"
      ],
      "text/plain": [
       "[1] TRUE"
      ]
     },
     "metadata": {},
     "output_type": "display_data"
    },
    {
     "data": {
      "text/html": [
       "<ol class=list-inline>\n",
       "\t<li>2</li>\n",
       "\t<li>3</li>\n",
       "\t<li>4</li>\n",
       "\t<li>5</li>\n",
       "</ol>\n"
      ],
      "text/latex": [
       "\\begin{enumerate*}\n",
       "\\item 2\n",
       "\\item 3\n",
       "\\item 4\n",
       "\\item 5\n",
       "\\end{enumerate*}\n"
      ],
      "text/markdown": [
       "1. 2\n",
       "2. 3\n",
       "3. 4\n",
       "4. 5\n",
       "\n",
       "\n"
      ],
      "text/plain": [
       "[1] 2 3 4 5"
      ]
     },
     "metadata": {},
     "output_type": "display_data"
    }
   ],
   "source": [
    "l = c(1,2,3,4,5,6,7,8,9)\n",
    "l[1] == 1  # En python usariamos l[0]\n",
    "l[2:5]  # En python usariamos 1:4"
   ]
  },
  {
   "cell_type": "markdown",
   "metadata": {},
   "source": [
    "Igual que con numpy, podemos usar _vectores índice_ y _vectores booleanos_ para filtrar un vector"
   ]
  },
  {
   "cell_type": "code",
   "execution_count": 35,
   "metadata": {},
   "outputs": [
    {
     "name": "stdout",
     "output_type": "stream",
     "text": [
      " [1] 0 1 2 3 4 5 6 7 8 9\n",
      "[1] 0 2 4 6 8\n",
      "[1] 1 3 5 7 9\n"
     ]
    }
   ],
   "source": [
    "l <- 0:9\n",
    "print(l)\n",
    "print( l[c(1,3,5,7, 9)] )\n",
    "print( l[c(FALSE, TRUE, FALSE, TRUE, FALSE, TRUE, FALSE, TRUE, FALSE, TRUE)] )"
   ]
  },
  {
   "cell_type": "markdown",
   "metadata": {},
   "source": [
    "### Matrices\n",
    "\n",
    "Una matríz (_Matrix_) es una estructura de datos bidimensional, rectangular. Se puede crear usando un vector de entrada con la función `matrix()`."
   ]
  },
  {
   "cell_type": "code",
   "execution_count": 5,
   "metadata": {},
   "outputs": [
    {
     "name": "stdout",
     "output_type": "stream",
     "text": [
      "     [,1] [,2] [,3]\n",
      "[1,] \"a\"  \"b\"  \"c\" \n",
      "[2,] \"d\"  \"e\"  \"f\" \n"
     ]
    }
   ],
   "source": [
    "# Create a matrix.\n",
    "M <- matrix( c('a','b','c','d','e','f'), nrow = 2, ncol = 3, byrow = TRUE)\n",
    "print(M)"
   ]
  },
  {
   "cell_type": "markdown",
   "metadata": {},
   "source": [
    "### Arrays\n",
    "\n",
    "Las matrices estan restringidas a dos dimensiones, mientras que las arrays no tienen esa limitación. La función `array()` acepta un parámetro `dim` para especificar el número de dimensiones. En el siguiente ejemplo lo usamos para crear una metríz cúbica de 3 por 3 por 2:"
   ]
  },
  {
   "cell_type": "code",
   "execution_count": 13,
   "metadata": {
    "scrolled": true
   },
   "outputs": [
    {
     "name": "stdout",
     "output_type": "stream",
     "text": [
      ", , 1\n",
      "\n",
      "     [,1]       [,2]       [,3]      \n",
      "[1,] \"rojo\"     \"rojo\"     \"rojo\"    \n",
      "[2,] \"verde\"    \"verde\"    \"verde\"   \n",
      "[3,] \"amarillo\" \"amarillo\" \"amarillo\"\n",
      "\n",
      ", , 2\n",
      "\n",
      "     [,1]       [,2]       [,3]      \n",
      "[1,] \"rojo\"     \"rojo\"     \"rojo\"    \n",
      "[2,] \"verde\"    \"verde\"    \"verde\"   \n",
      "[3,] \"amarillo\" \"amarillo\" \"amarillo\"\n",
      "\n"
     ]
    }
   ],
   "source": [
    "# Create an array.\n",
    "a <- array(c('rojo', 'verde', 'amarillo'),dim = c(3,3,2))\n",
    "print(a)"
   ]
  },
  {
   "cell_type": "markdown",
   "metadata": {},
   "source": [
    "### Data Frames\n",
    "\n",
    "Los DataFrames son tablas que contienen objetos. A diferencia de la matrices, cada columna puede contener diferentes tipos de datos, es decir, que la primera collumna pueden ser numérica mientras que la segunda puede ser un caracter y la tercera un booleano. Es básicamente una lista de vectores de igual longitud.\n",
    "\n",
    "Se pueden crear con la función `data.frame()`."
   ]
  },
  {
   "cell_type": "code",
   "execution_count": 2,
   "metadata": {},
   "outputs": [
    {
     "name": "stdout",
     "output_type": "stream",
     "text": [
      "       sexo altura anchura peso\n",
      "1 Masculino  152.0      81   42\n",
      "2 Masculino  171.5      93   38\n",
      "3  Femenino  165.0      78   26\n"
     ]
    }
   ],
   "source": [
    "# Crear un data frame.\n",
    "\n",
    "BMI <- \tdata.frame(\n",
    "   sexo = c(\"Masculino\", \"Masculino\",\"Femenino\"), \n",
    "   altura = c(152, 171.5, 165), \n",
    "   anchura = c(81,93, 78),\n",
    "   peso = c(42,38,26)\n",
    ")\n",
    "print(BMI)"
   ]
  },
  {
   "cell_type": "markdown",
   "metadata": {},
   "source": [
    "Podemos listar las variables que están ahora mismo en memoria con la función  `ls()`."
   ]
  },
  {
   "cell_type": "code",
   "execution_count": 7,
   "metadata": {},
   "outputs": [
    {
     "name": "stdout",
     "output_type": "stream",
     "text": [
      "[1] \"BMI\"  \"M\"    \"s\"    \"song\" \"v\"   \n"
     ]
    }
   ],
   "source": [
    "print(ls())"
   ]
  },
  {
   "cell_type": "markdown",
   "metadata": {},
   "source": [
    "## Estructuras de Control"
   ]
  },
  {
   "cell_type": "markdown",
   "metadata": {},
   "source": [
    "### El condicional IF"
   ]
  },
  {
   "cell_type": "code",
   "execution_count": 21,
   "metadata": {},
   "outputs": [
    {
     "name": "stdout",
     "output_type": "stream",
     "text": [
      "[1] \"X es par\"\n",
      "[1] \"X es impar\"\n"
     ]
    }
   ],
   "source": [
    "# condicional con una sola rama\n",
    "\n",
    "30 -> x\n",
    "if (x %% 2 == 0) {\n",
    "   print(\"X es par\")\n",
    "}\n",
    "\n",
    "# condicional con rama alternativa\n",
    "\n",
    "31 -> x\n",
    "if (x %% 2 == 0) {\n",
    "   print(\"X es par\")\n",
    "} else {\n",
    "   print(\"X es impar\")\n",
    "}\n"
   ]
  },
  {
   "cell_type": "markdown",
   "metadata": {},
   "source": [
    "### Funciones\n",
    "\n",
    "Las funciones son muy similares a las de  Python. Pueden tener un número variable de parámetros y tambien aceptan valores por defecto y paso de parámetros por nombre. Muchas funciones matemáticas ya están incluidas en R, como `log`, `sin`, `exp`, sin necesidad de incluir ningún paquete (En Python teniamos que importar el módulo `math`).\n",
    "\n",
    "Podemos definir nuestras porpias funciones asignando a una variable el resultado de evaluar `function`, por ejemplo:"
   ]
  },
  {
   "cell_type": "code",
   "execution_count": 38,
   "metadata": {},
   "outputs": [
    {
     "data": {
      "text/html": [
       "5"
      ],
      "text/latex": [
       "5"
      ],
      "text/markdown": [
       "5"
      ],
      "text/plain": [
       "[1] 5"
      ]
     },
     "metadata": {},
     "output_type": "display_data"
    }
   ],
   "source": [
    "distancia <- function(x, y) {\n",
    "    sqrt(x^2 + y^2)\n",
    "}\n",
    "\n",
    "distancia(3,4)"
   ]
  },
  {
   "cell_type": "markdown",
   "metadata": {},
   "source": [
    "Un truco interesante es que podemos simplemente escribir el nombre de una función para ver su definicón:"
   ]
  },
  {
   "cell_type": "code",
   "execution_count": 39,
   "metadata": {},
   "outputs": [
    {
     "data": {
      "text/html": [
       "<pre class=language-r><code>function (x, y) \n",
       "{\n",
       "<span style=white-space:pre-wrap>    sqrt(x^2 + y^2)</span>\n",
       "}</code></pre>"
      ],
      "text/latex": [
       "\\begin{minted}{r}\n",
       "function (x, y) \n",
       "\\{\n",
       "    sqrt(x\\textasciicircum{}2 + y\\textasciicircum{}2)\n",
       "\\}\n",
       "\\end{minted}"
      ],
      "text/markdown": [
       "```r\n",
       "function (x, y) \n",
       "{\n",
       "    sqrt(x^2 + y^2)\n",
       "}\n",
       "```"
      ],
      "text/plain": [
       "function(x, y) {\n",
       "    sqrt(x^2 + y^2)\n",
       "}"
      ]
     },
     "metadata": {},
     "output_type": "display_data"
    }
   ],
   "source": [
    "distancia"
   ]
  },
  {
   "cell_type": "code",
   "execution_count": null,
   "metadata": {},
   "outputs": [],
   "source": []
  }
 ],
 "metadata": {
  "kernelspec": {
   "display_name": "R",
   "language": "R",
   "name": "ir"
  },
  "language_info": {
   "codemirror_mode": "r",
   "file_extension": ".r",
   "mimetype": "text/x-r-source",
   "name": "R",
   "pygments_lexer": "r",
   "version": "3.2.3"
  }
 },
 "nbformat": 4,
 "nbformat_minor": 2
}
