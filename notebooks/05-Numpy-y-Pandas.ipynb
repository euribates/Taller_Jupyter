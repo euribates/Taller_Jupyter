{
 "cells": [
  {
   "cell_type": "markdown",
   "metadata": {},
   "source": [
    "Numpy y Pandas\n",
    "====================\n",
    "\n",
    "Qué es numpy\n",
    "-------------------\n",
    "\n",
    "El nombre vienen de _Numerical Python_. Es una librería de software libre que permite a Python trabajar con vectores y matrices de forma muy oficiente. Entro otras cosas, el almacenamiento y el acceso es muy rápido, y permite operaciones vectorizadas, acceso por nomemclarura de slices y selección mediante vectores booleanos.\n",
    "\n",
    "Este optimización se consigue porque los array solo adminten un determinado tipo de datos, no son tan versátiles como las listas o conjuntos de Python, que aceptan cualquier clase de elemento. Además, el tipo de dato esta definido muy rigurosamente. Podemos definir el tipo cuando creamos el array o dejar que numpy lo infiera a partir de los datos que le damos. Si son todo enteros, por ejemplo, seguramante creará un array de _enteros de 64 bits_.\n",
    "\n",
    "Podemos crear un array a partir de cualquier secuencia homogenea de valores Pytho usando la función `array`. Es muy habitual usar una lista:"
   ]
  },
  {
   "cell_type": "code",
   "execution_count": 1,
   "metadata": {},
   "outputs": [
    {
     "name": "stdout",
     "output_type": "stream",
     "text": [
      "[1 2 3 4]\n"
     ]
    }
   ],
   "source": [
    "import numpy as np\n",
    "\n",
    "a = np.array([1, 2, 3, 4])\n",
    "print(a)"
   ]
  },
  {
   "cell_type": "code",
   "execution_count": 2,
   "metadata": {},
   "outputs": [
    {
     "name": "stdout",
     "output_type": "stream",
     "text": [
      "[1 2 3 4]\n"
     ]
    }
   ],
   "source": [
    "a = np.array(range(1, 5))\n",
    "print(a)"
   ]
  },
  {
   "cell_type": "markdown",
   "metadata": {},
   "source": [
    "Podemos crear una matriz usando una lista de listas:"
   ]
  },
  {
   "cell_type": "code",
   "execution_count": 3,
   "metadata": {},
   "outputs": [
    {
     "name": "stdout",
     "output_type": "stream",
     "text": [
      "[[ 1.   1.1  1.2  1.3]\n",
      " [ 2.   2.1  2.2  2.3]\n",
      " [ 3.   3.1  3.2  3.3]]\n"
     ]
    }
   ],
   "source": [
    "b = np.array([\n",
    "    [1, 1.1, 1.2, 1.3],\n",
    "    [2, 2.1, 2.2, 2.3],\n",
    "    [3, 3.1, 3.2, 3.3],\n",
    "])\n",
    "print(b)"
   ]
  },
  {
   "cell_type": "markdown",
   "metadata": {},
   "source": [
    "Los arrays tienen un atributo que define su tipo, `dtype` y otro que define su forma: `shape`:"
   ]
  },
  {
   "cell_type": "code",
   "execution_count": 4,
   "metadata": {},
   "outputs": [
    {
     "data": {
      "text/plain": [
       "(3, 4)"
      ]
     },
     "execution_count": 4,
     "metadata": {},
     "output_type": "execute_result"
    }
   ],
   "source": [
    "b.shape"
   ]
  },
  {
   "cell_type": "code",
   "execution_count": 5,
   "metadata": {},
   "outputs": [
    {
     "data": {
      "text/plain": [
       "dtype('float64')"
      ]
     },
     "execution_count": 5,
     "metadata": {},
     "output_type": "execute_result"
    }
   ],
   "source": [
    "b.dtype"
   ]
  },
  {
   "cell_type": "markdown",
   "metadata": {},
   "source": [
    "Podemos usar el método `reshape` para cambiar las dimensiones de una array; esto puede ser útil para crear arrays grandes a partir de una secuencia lineal:"
   ]
  },
  {
   "cell_type": "code",
   "execution_count": 6,
   "metadata": {},
   "outputs": [
    {
     "data": {
      "text/plain": [
       "array([[ 0,  1,  2,  3],\n",
       "       [ 4,  5,  6,  7],\n",
       "       [ 8,  9, 10, 11],\n",
       "       [12, 13, 14, 15]])"
      ]
     },
     "execution_count": 6,
     "metadata": {},
     "output_type": "execute_result"
    }
   ],
   "source": [
    "b = np.array(range(16)).reshape((4, 4))\n",
    "b"
   ]
  },
  {
   "cell_type": "markdown",
   "metadata": {},
   "source": [
    "> **Nota** : Obsérvese que el parámetro que se le pasa a `reshape` es una tupla."
   ]
  },
  {
   "cell_type": "markdown",
   "metadata": {},
   "source": [
    "Una forma muy eficiente de crear matrices es la función `zeros` para crear vectores o matrices con todos los valores a cero:"
   ]
  },
  {
   "cell_type": "code",
   "execution_count": 7,
   "metadata": {},
   "outputs": [
    {
     "data": {
      "text/plain": [
       "array([[ 0.,  0.,  0.,  0.],\n",
       "       [ 0.,  0.,  0.,  0.],\n",
       "       [ 0.,  0.,  0.,  0.],\n",
       "       [ 0.,  0.,  0.,  0.]])"
      ]
     },
     "execution_count": 7,
     "metadata": {},
     "output_type": "execute_result"
    }
   ],
   "source": [
    "z = np.zeros((4,4))\n",
    "z"
   ]
  },
  {
   "cell_type": "markdown",
   "metadata": {},
   "source": [
    "La función `eye` permite crear una matrix cuadrada con la diagonal a 1 y el resto de valores a 0. Solo hay que pasarle un dato, ya que al ser ciadrada el número de columnas es igual el de filas."
   ]
  },
  {
   "cell_type": "code",
   "execution_count": 8,
   "metadata": {},
   "outputs": [
    {
     "name": "stdout",
     "output_type": "stream",
     "text": [
      "[[ 1.  0.  0.  0.]\n",
      " [ 0.  1.  0.  0.]\n",
      " [ 0.  0.  1.  0.]\n",
      " [ 0.  0.  0.  1.]]\n"
     ]
    }
   ],
   "source": [
    "i = np.eye(4)\n",
    "print(i)"
   ]
  },
  {
   "cell_type": "markdown",
   "metadata": {},
   "source": [
    "También tenemos la función `arange`, que funciona como el range normal, pero vectorizado (Veremos quu significa esto más adelante):"
   ]
  },
  {
   "cell_type": "code",
   "execution_count": 9,
   "metadata": {
    "scrolled": true
   },
   "outputs": [
    {
     "data": {
      "text/plain": [
       "array([ 0,  1,  2,  3,  4,  5,  6,  7,  8,  9, 10, 11, 12, 13, 14, 15, 16,\n",
       "       17, 18, 19, 20, 21, 22, 23, 24, 25, 26, 27, 28, 29, 30, 31, 32, 33,\n",
       "       34, 35])"
      ]
     },
     "execution_count": 9,
     "metadata": {},
     "output_type": "execute_result"
    }
   ],
   "source": [
    "np.arange(36)"
   ]
  },
  {
   "cell_type": "code",
   "execution_count": 10,
   "metadata": {
    "scrolled": true
   },
   "outputs": [
    {
     "data": {
      "text/plain": [
       "array([1, 3, 5, 7, 9])"
      ]
     },
     "execution_count": 10,
     "metadata": {},
     "output_type": "execute_result"
    }
   ],
   "source": [
    "np.arange(1, 11, 2)"
   ]
  },
  {
   "cell_type": "code",
   "execution_count": 11,
   "metadata": {},
   "outputs": [
    {
     "data": {
      "text/plain": [
       "array([[ 0,  1,  2,  3,  4,  5],\n",
       "       [ 6,  7,  8,  9, 10, 11],\n",
       "       [12, 13, 14, 15, 16, 17],\n",
       "       [18, 19, 20, 21, 22, 23],\n",
       "       [24, 25, 26, 27, 28, 29],\n",
       "       [30, 31, 32, 33, 34, 35]])"
      ]
     },
     "execution_count": 11,
     "metadata": {},
     "output_type": "execute_result"
    }
   ],
   "source": [
    "np.arange(36).reshape((6,6))"
   ]
  },
  {
   "cell_type": "markdown",
   "metadata": {},
   "source": [
    "La función `linspace` es similar a range, pero en vez de aceptar como tercer parámetro un paso, se le indica el número de valores que queremos en ese intervalo, y el último valor indicado tamnbién está dentro del rango:"
   ]
  },
  {
   "cell_type": "code",
   "execution_count": 12,
   "metadata": {},
   "outputs": [
    {
     "data": {
      "text/plain": [
       "array([ 2.        ,  2.36842105,  2.73684211,  3.10526316,  3.47368421,\n",
       "        3.84210526,  4.21052632,  4.57894737,  4.94736842,  5.31578947,\n",
       "        5.68421053,  6.05263158,  6.42105263,  6.78947368,  7.15789474,\n",
       "        7.52631579,  7.89473684,  8.26315789,  8.63157895,  9.        ])"
      ]
     },
     "execution_count": 12,
     "metadata": {},
     "output_type": "execute_result"
    }
   ],
   "source": [
    "np.linspace(2, 9, 20)"
   ]
  },
  {
   "cell_type": "markdown",
   "metadata": {},
   "source": [
    "### Algunas ventajas de los arrays de numpy"
   ]
  },
  {
   "cell_type": "code",
   "execution_count": null,
   "metadata": {},
   "outputs": [],
   "source": []
  },
  {
   "cell_type": "markdown",
   "metadata": {},
   "source": [
    "#### Operaciones vectorizadas\n",
    "\n",
    "Una operación vectoriada es una una técnica que consiste en aplicar una misma operación a un array (o a parte de un array) sin necesidad de especificar bucles. Como este se implementean en  C y tiene acceso inmediato a los datos el rendimiento se eleva en varios ordenes de magnitud. Además, el código resultante es más corto y se entiende mejor.\n",
    "\n",
    "Por ejemplo, vamos a calcular lo que lleva calcular el cubo de una serie de números, haciendlo nativamente en Python o usando Nunpy:"
   ]
  },
  {
   "cell_type": "code",
   "execution_count": 13,
   "metadata": {},
   "outputs": [
    {
     "name": "stdout",
     "output_type": "stream",
     "text": [
      "Requirement already up-to-date: pandas in /home/siga01.stic.ull.es/62/alu0100854596/.local/lib/python2.7/site-packages\n",
      "Requirement already up-to-date: pytz>=2011k in /home/siga01.stic.ull.es/62/alu0100854596/.local/lib/python2.7/site-packages (from pandas)\n",
      "Requirement already up-to-date: numpy>=1.9.0 in /home/siga01.stic.ull.es/62/alu0100854596/.local/lib/python2.7/site-packages (from pandas)\n",
      "Requirement already up-to-date: python-dateutil in /usr/local/lib/python2.7/dist-packages (from pandas)\n",
      "Requirement already up-to-date: six>=1.5 in /home/siga01.stic.ull.es/62/alu0100854596/.local/lib/python2.7/site-packages (from python-dateutil->pandas)\n"
     ]
    }
   ],
   "source": [
    "!python -m pip install pandas --user --upgrade"
   ]
  },
  {
   "cell_type": "code",
   "execution_count": 51,
   "metadata": {},
   "outputs": [
    {
     "data": {
      "text/plain": [
       "[<matplotlib.lines.Line2D at 0x7f87de658790>]"
      ]
     },
     "execution_count": 51,
     "metadata": {},
     "output_type": "execute_result"
    },
    {
     "data": {
      "image/png": "[encoded data removed]",
      "text/plain": [
       "<matplotlib.figure.Figure at 0x7f87de7198d0>"
      ]
     },
     "metadata": {},
     "output_type": "display_data"
    }
   ],
   "source": [
    "import random\n",
    "import numpy as np\n",
    "import pandas as pd\n",
    "import matplotlib.pyplot as plt\n",
    "\n",
    "%matplotlib inline\n",
    "\n",
    "x = np.linspace(0, 5, 200)\n",
    "y = np.sin(x)\n",
    "y = pd.Series(y)\n",
    "plt.plot(x, y)"
   ]
  },
  {
   "cell_type": "code",
   "execution_count": 16,
   "metadata": {},
   "outputs": [
    {
     "name": "stdout",
     "output_type": "stream",
     "text": [
      "CPU times: user 5.53 s, sys: 356 ms, total: 5.88 s\n",
      "Wall time: 5.9 s\n"
     ]
    }
   ],
   "source": [
    "n1 = (random.random() for i in range(10000000))\n",
    "c1 = []\n",
    "%time for x in n1: c1.append(x**3)"
   ]
  },
  {
   "cell_type": "markdown",
   "metadata": {},
   "source": [
    "Usando numpy, podemos usar `numpy.random.rand` para crear el array, y luego simplemente lo elevamos al cubo:"
   ]
  },
  {
   "cell_type": "code",
   "execution_count": 17,
   "metadata": {},
   "outputs": [
    {
     "name": "stdout",
     "output_type": "stream",
     "text": [
      "CPU times: user 1.18 s, sys: 128 ms, total: 1.31 s\n",
      "Wall time: 1.34 s\n"
     ]
    }
   ],
   "source": [
    "n2 = np.random.rand(10000000)\n",
    "%time c2 = n2 ** 3"
   ]
  },
  {
   "cell_type": "code",
   "execution_count": 18,
   "metadata": {},
   "outputs": [],
   "source": [
    "assert len(c1) == len(c2)"
   ]
  },
  {
   "cell_type": "markdown",
   "metadata": {},
   "source": [
    "En resumen: Siempre que puedas, usa operaciones vectorizables. Si estás trabajando con arrays de numpy y estas haciendo un for en algún lado, estás haciendo algo mal."
   ]
  },
  {
   "cell_type": "markdown",
   "metadata": {},
   "source": [
    "#### Selección booleana\n",
    "\n",
    "Podemos hacer un filtrado de filas dentro de un array de numpy usando un venctor de booleanos; las filas en las que haya un verdadero en el la posicción del vector booleano equivalente pasan el filtro. En caso contrario no. Mejor vamoslo con un ejemplo:"
   ]
  },
  {
   "cell_type": "markdown",
   "metadata": {},
   "source": [
    "Podemos crear un array de numpy a partir de la función `array`, pasándole cualquier secuencia. Es muy habitual usar una lista:"
   ]
  },
  {
   "cell_type": "code",
   "execution_count": 19,
   "metadata": {},
   "outputs": [
    {
     "name": "stdout",
     "output_type": "stream",
     "text": [
      "[1 2 3 4]\n"
     ]
    }
   ],
   "source": [
    "a = np.array([1,2,3,4])\n",
    "print(a)"
   ]
  },
  {
   "cell_type": "markdown",
   "metadata": {},
   "source": [
    "Podemos crear una matriz usando una lista de listas:"
   ]
  },
  {
   "cell_type": "code",
   "execution_count": 20,
   "metadata": {},
   "outputs": [
    {
     "name": "stdout",
     "output_type": "stream",
     "text": [
      "[[ 1.   1.1  1.2  1.3]\n",
      " [ 2.   2.1  2.2  2.3]\n",
      " [ 3.   3.1  3.2  3.3]]\n"
     ]
    }
   ],
   "source": [
    "b = np.array([\n",
    "    [1, 1.1, 1.2, 1.3],\n",
    "    [2, 2.1, 2.2, 2.3],\n",
    "    [3, 3.1, 3.2, 3.3],\n",
    "])\n",
    "print(b)"
   ]
  },
  {
   "cell_type": "markdown",
   "metadata": {},
   "source": [
    "Si queremos quedarnos solo con la primera y tercera columnas, podemos filtrar usando un vector de booleanos:"
   ]
  },
  {
   "cell_type": "code",
   "execution_count": 21,
   "metadata": {},
   "outputs": [
    {
     "name": "stdout",
     "output_type": "stream",
     "text": [
      "[[ 1.   1.1  1.2  1.3]\n",
      " [ 3.   3.1  3.2  3.3]]\n"
     ]
    }
   ],
   "source": [
    "f = np.array([True, False, True])\n",
    "print(b[f])"
   ]
  },
  {
   "cell_type": "markdown",
   "metadata": {},
   "source": [
    "Lo que es interensate es que podemos obtener este tipo de vectores haciendo comparaciones entre arrays. Por ejemplo, supongamos que tennemos el siguiente array:"
   ]
  },
  {
   "cell_type": "code",
   "execution_count": 22,
   "metadata": {},
   "outputs": [],
   "source": [
    "l = np.array([-23, 144, 85, 36, -2, 0, 7, 92])"
   ]
  },
  {
   "cell_type": "markdown",
   "metadata": {},
   "source": [
    "Podemos hacer la siguiente comparación: `f < 0`. En principio esta comparación no tiene ninguna lógica; estamos comparando un array de valores con un solo número. Con listas nativas de Python es verdad que no tienen sentido, pero las clases que implementan los array usan una técnica de OOP llamada **sobrecarga de operadores**, es decir, que redefinen el comportamiento y los resultados cuando se opera con los arrays. En este caso, al comparar con un valor escalar, aplica esa comparación de forma vectorizada a todos los valores del array, y devuelve un array con los resultados:"
   ]
  },
  {
   "cell_type": "code",
   "execution_count": 23,
   "metadata": {},
   "outputs": [
    {
     "data": {
      "text/plain": [
       "array([ True, False, False, False,  True, False, False, False], dtype=bool)"
      ]
     },
     "execution_count": 23,
     "metadata": {},
     "output_type": "execute_result"
    }
   ],
   "source": [
    "l < 0"
   ]
  },
  {
   "cell_type": "markdown",
   "metadata": {},
   "source": [
    "Usando  este vector de booleanos como filtro, puedo obtener un array que es un sobconjunto de las filas de l, en el que las filas solo tienen valores positivos:"
   ]
  },
  {
   "cell_type": "code",
   "execution_count": 24,
   "metadata": {},
   "outputs": [
    {
     "name": "stdout",
     "output_type": "stream",
     "text": [
      "('Menores que 0:', array([-23,  -2]))\n",
      "('Mayores que 0:', array([144,  85,  36,   7,  92]))\n",
      "('Igual que 0:', array([0]))\n"
     ]
    }
   ],
   "source": [
    "print('Menores que 0:', l[l<0])\n",
    "print('Mayores que 0:', l[l > 0])\n",
    "print('Igual que 0:', l[l == 0])"
   ]
  },
  {
   "cell_type": "markdown",
   "metadata": {},
   "source": [
    "#### Slices\n",
    "\n",
    "Los arrays de numpy también se puede operar com slices, como las listas o las cadenas de texto.\n",
    "\n",
    "Los elementos de una matriz bidimensional se pueden acceder de\n",
    "dos maneras:\n",
    "\n",
    "- usando `[fila][columna]` \n",
    "- usando `[fila, columna]`"
   ]
  },
  {
   "cell_type": "code",
   "execution_count": 25,
   "metadata": {},
   "outputs": [
    {
     "data": {
      "text/plain": [
       "array([[ 1,  2,  3,  4],\n",
       "       [ 5,  6,  7,  8],\n",
       "       [ 9, 10, 11, 12],\n",
       "       [13, 14, 15, 16]])"
      ]
     },
     "execution_count": 25,
     "metadata": {},
     "output_type": "execute_result"
    }
   ],
   "source": [
    "m = np.arange(1, 17).reshape((4, 4))\n",
    "assert list(m[1]) == [5, 6, 7, 8]\n",
    "assert m[1][3] == m[1,3] == 8\n",
    "m"
   ]
  },
  {
   "cell_type": "markdown",
   "metadata": {},
   "source": [
    "Qué es Pandas\n",
    "-------------------------\n",
    "\n",
    "Pandas se construye encima de NumPy y de Matplotlib, \n",
    "\n",
    "LOs objetos más importantes de Pnadas son las **Series** y los **DataFrames**.\n",
    "\n",
    "### Series\n",
    "\n",
    "El bloque primario sobre el que se construye Pandas son los objetos de tipo **Series**.\n",
    "Una serie representa una lista o array unidimensional --basado en los arrays de numpy--, etiquetado e indexado. Al igual que un array, una serie puede contener cero o más valores de un unico y predeterminado tipo de datos.\n",
    "\n",
    "Una serie se diferencia de un array de NumPy porque se le han añadido una serie de etiquetas que se usan para indexar y acceder de forma eficiente a los elementos del array, permitiendo acceder de otras formas además de por la posición . Esta capacidad es clave para Pandas y añado una potencialidad adicional en la forma de acceder a los elementos contenidos en la serie.\n",
    "\n",
    "![Vector versus Pandas Series](../img/array-vs-pandas-series.svg \"NumPy Array versus Pandas Series\")\n",
    "\n",
    "LAs series siempre tendrán un índice, aunque no se haya especificado. Si fuera ese el caso, Pandas creará un índice que consistira en una secuencia de enteros empezando por el cero, lo que coincidiría con el índice natural. Este comportamiento hace que el la serie se parezca un array, y es un comportamietno desable, ya que permite que, en la mayor parte de los casos, donde se este usando un array podemos cambiarlo por una serie de Pandas.\n",
    "\n",
    "Peo aunque el acceso sea parecido, el acceso por el indice de Pandas no es por posición, sino por el valor de la etiqueta. Las etiquetas no tienen que ser consecutivas, ni números, se pueden repetir, pueden estar formadas por varios valores (jerarquía de etiquetas), y son usadaas siempre por Pandas para el acceso a los elementos.\n",
    "\n",
    "Una característica importante y muy apreciada de pandas es el alineamiento automático que se consigue con estas etiquetas. Las operaciones aplicaddas  sobre varias series --por ejemplo, una suma-- no se realizan a ciegas alineando los elementos por su posición, sino que loas filas se alinean por las etiquetas del índice y seaplica la operación a aquellos elementos con el mismo valor de etiqueta o índice. En cierta manera la serie se comporta como si fuera un diccionario donde la etiqueta en el valor clave.\n",
    "\n",
    "Vasmos todo esto con un ejemplo. Podemos crear series de Pandas a partir de cualquier secuencia:"
   ]
  },
  {
   "cell_type": "code",
   "execution_count": 52,
   "metadata": {},
   "outputs": [
    {
     "data": {
      "text/plain": [
       "0    Star Wars\n",
       "1    Star Trek\n",
       "2    Galactica\n",
       "dtype: object"
      ]
     },
     "execution_count": 52,
     "metadata": {},
     "output_type": "execute_result"
    }
   ],
   "source": [
    "# Una serie con etiquetas que coinciden con el índice natural\n",
    "\n",
    "s = pd.Series(['Star Wars', 'Star Trek', 'Galactica'])\n",
    "assert s[0] == 'Star Wars'\n",
    "s"
   ]
  },
  {
   "cell_type": "markdown",
   "metadata": {},
   "source": [
    "Podemos especificar las etiquetas a usar, si queremos:"
   ]
  },
  {
   "cell_type": "code",
   "execution_count": 53,
   "metadata": {},
   "outputs": [
    {
     "data": {
      "text/plain": [
       "sw    Star Wars\n",
       "st    Star Trek\n",
       "g     Galactica\n",
       "dtype: object"
      ]
     },
     "execution_count": 53,
     "metadata": {},
     "output_type": "execute_result"
    }
   ],
   "source": [
    "# Podemos indicar que índices o etiquetas se deben usar\n",
    "\n",
    "s = pd.Series(\n",
    "    ['Star Wars', 'Star Trek', 'Galactica'],\n",
    "    index=['sw', 'st', 'g']\n",
    ")\n",
    "assert s['sw'] == 'Star Wars'\n",
    "s"
   ]
  },
  {
   "cell_type": "markdown",
   "metadata": {},
   "source": [
    "Veamos como funciona lo de del alineado automático:"
   ]
  },
  {
   "cell_type": "code",
   "execution_count": 68,
   "metadata": {},
   "outputs": [
    {
     "data": {
      "text/plain": [
       "a     NaN\n",
       "b    22.0\n",
       "c    33.0\n",
       "d    44.0\n",
       "e     NaN\n",
       "dtype: float64"
      ]
     },
     "execution_count": 68,
     "metadata": {},
     "output_type": "execute_result"
    }
   ],
   "source": [
    "# No suma a lo loco, solo en aquellos casos en que se correspondadn las etiquetas\n",
    "\n",
    "s1 = pd.Series([10, 20, 30, 40], index=['a', 'b', 'c', 'd'])\n",
    "s2 = pd.Series([2, 3, 4, 5], index=['b', 'c', 'd', 'e'])\n",
    "s = s1 + s2\n",
    "s"
   ]
  },
  {
   "cell_type": "markdown",
   "metadata": {},
   "source": [
    "> El valor especial `NaN` significa _Not a Number_ y en la práctica significa _No sé lo que es, pero no es un número_. Cuando operamos con `NaN` todo se vuelve muy sencillo (A la par que inutil). Por ejemplo, la suma de cualquier numero con `NaN` es `NaN`. Como la serie `s2` no tiene valor para la etiqueta `a`, se asume `NaN`. Ahora sumanos ese valor con `s1`, que si tiene un valor etiqeutado `a`, pero como la suma de `NaN` con cualquier número es `NaN`, eso es lo que obtenemos. Igual pasa con el valor etiquetado con `e`, solo que en este caso si esta enla segunda serie pero no en la primera."
   ]
  },
  {
   "cell_type": "markdown",
   "metadata": {},
   "source": [
    "Una serie también se puede crear a partir de un diccionario; las claves del diccionario seran las etiquetas de la Serie. Otra cosa característica de la serie es que puede tener un nombre."
   ]
  },
  {
   "cell_type": "code",
   "execution_count": 69,
   "metadata": {},
   "outputs": [
    {
     "data": {
      "text/plain": [
       "bg    Battleship Galactica\n",
       "st               Star Trek\n",
       "sw               Star Wars\n",
       "Name: scifi, dtype: object"
      ]
     },
     "execution_count": 69,
     "metadata": {},
     "output_type": "execute_result"
    }
   ],
   "source": [
    "s = pd.Series(\n",
    "    {'sw': 'Star Wars', 'st': 'Star Trek', 'bg': 'Battleship Galactica'},\n",
    "    name='scifi'\n",
    ")\n",
    "assert s.name == 'scifi'\n",
    "s"
   ]
  },
  {
   "cell_type": "markdown",
   "metadata": {},
   "source": [
    "Como hemos visto, el acceso a un elemento se hace mediante la etiqueta, pero tambien podemos acceder por posición usando el método `iloc`:"
   ]
  },
  {
   "cell_type": "code",
   "execution_count": 73,
   "metadata": {},
   "outputs": [
    {
     "data": {
      "text/plain": [
       "'Star Wars'"
      ]
     },
     "execution_count": 73,
     "metadata": {},
     "output_type": "execute_result"
    }
   ],
   "source": [
    "s.iloc[]"
   ]
  },
  {
   "cell_type": "markdown",
   "metadata": {},
   "source": [
    "La serie ordena internamente las etiquetas, así que este caso, lo primera posición es para `bg`."
   ]
  },
  {
   "cell_type": "markdown",
   "metadata": {},
   "source": [
    "Podemos obtener los contenidos de la secuencia en forma de\n",
    "array de NumPY con la propiedad `values`:"
   ]
  },
  {
   "cell_type": "code",
   "execution_count": 75,
   "metadata": {},
   "outputs": [
    {
     "data": {
      "text/plain": [
       "(numpy.ndarray,\n",
       " array(['Battleship Galactica', 'Star Trek', 'Star Wars'], dtype=object))"
      ]
     },
     "execution_count": 75,
     "metadata": {},
     "output_type": "execute_result"
    }
   ],
   "source": [
    "s = pd.Series(\n",
    "    {'sw': 'Star Wars', 'st': 'Star Trek', 'bg': 'Battleship Galactica'},\n",
    ")\n",
    "l = s.values\n",
    "type(l), l"
   ]
  },
  {
   "cell_type": "markdown",
   "metadata": {},
   "source": [
    "E igualmente podemos obtener un los valores del índice \n",
    "con la propiedad `index`:"
   ]
  },
  {
   "cell_type": "code",
   "execution_count": 76,
   "metadata": {},
   "outputs": [
    {
     "data": {
      "text/plain": [
       "(pandas.core.indexes.base.Index, Index([u'bg', u'st', u'sw'], dtype='object'))"
      ]
     },
     "execution_count": 76,
     "metadata": {},
     "output_type": "execute_result"
    }
   ],
   "source": [
    "s = pd.Series(\n",
    "    {'sw': 'Star Wars', 'st': 'Star Trek', 'bg': 'Battleship Galactica'},\n",
    ")\n",
    "l = s.index\n",
    "type(l), l"
   ]
  },
  {
   "cell_type": "markdown",
   "metadata": {},
   "source": [
    "Esto nos puede ser útil para crear un array con las mismas etiquetas a partir de uno ya existente:"
   ]
  },
  {
   "cell_type": "code",
   "execution_count": 78,
   "metadata": {},
   "outputs": [
    {
     "data": {
      "text/plain": [
       "a    2\n",
       "b    3\n",
       "c    4\n",
       "d    5\n",
       "e    6\n",
       "f    7\n",
       "g    8\n",
       "dtype: int64"
      ]
     },
     "execution_count": 78,
     "metadata": {},
     "output_type": "execute_result"
    }
   ],
   "source": [
    "l = pd.Series(range(7), index='a b c d e f g'.split())\n",
    "l2 = pd.Series(2, index=l.index)\n",
    "assert len(l2) == 7\n",
    "assert l['a'] == 0\n",
    "assert l2['a'] == 2\n",
    "l + l2"
   ]
  },
  {
   "cell_type": "markdown",
   "metadata": {},
   "source": [
    "Podemos crear tambien una serie de Pandas a partir de un array de NumPy:"
   ]
  },
  {
   "cell_type": "code",
   "execution_count": 81,
   "metadata": {},
   "outputs": [
    {
     "data": {
      "text/plain": [
       "0    0.104914\n",
       "1   -0.838622\n",
       "2   -1.167214\n",
       "3    0.598289\n",
       "4    0.310935\n",
       "Name: noise, dtype: float64"
      ]
     },
     "execution_count": 81,
     "metadata": {},
     "output_type": "execute_result"
    }
   ],
   "source": [
    "array = np.random.randn(200)\n",
    "s = pd.Series(array, name='noise')\n",
    "s.tail()\n",
    "s.head()"
   ]
  },
  {
   "cell_type": "markdown",
   "metadata": {},
   "source": [
    "Un método muy cómodo para ver los datos de una serie es `head()`, que nos muestra como máximo los 5 primeros elementos de la misma. Otra característca interesante esel atributo `shape`, que no s devolvera una tupla; el primer elemento de la tupla es el número de filas. O tambien podemos usar la función `len` sobre la serie:"
   ]
  },
  {
   "cell_type": "code",
   "execution_count": 84,
   "metadata": {},
   "outputs": [
    {
     "data": {
      "text/plain": [
       "(30,)"
      ]
     },
     "execution_count": 84,
     "metadata": {},
     "output_type": "execute_result"
    }
   ],
   "source": [
    "s = pd.Series(np.linspace(-10, 10, 30))\n",
    "assert s.shape[0] == len(s)\n",
    "s.shape"
   ]
  },
  {
   "cell_type": "markdown",
   "metadata": {},
   "source": [
    "Para más precisión, podemos usar `count`, que devolverá el número de elementos que no sean `NaN`, o `unique()`, que devolverá el número valores unicos de elementos en la serie. Si necesitamos, además de los valores únicos, es recuento total de cada valor, podemos usar `value_counts()`."
   ]
  },
  {
   "cell_type": "code",
   "execution_count": 99,
   "metadata": {},
   "outputs": [
    {
     "data": {
      "text/plain": [
       "0    2.0\n",
       "5    8.0\n",
       "1    5.0\n",
       "dtype: float64"
      ]
     },
     "execution_count": 99,
     "metadata": {},
     "output_type": "execute_result"
    }
   ],
   "source": [
    "s[ [0,5,1] ]"
   ]
  },
  {
   "cell_type": "code",
   "execution_count": 89,
   "metadata": {},
   "outputs": [
    {
     "name": "stdout",
     "output_type": "stream",
     "text": [
      "('Tam:', 13)\n",
      "('N de elementos:', 12)\n",
      "('Valores unicos:', array([  2.,   5.,   7.,   8.,   1.,   3.,  nan]))\n"
     ]
    },
    {
     "data": {
      "text/plain": [
       "1.0    3\n",
       "2.0    3\n",
       "7.0    2\n",
       "5.0    2\n",
       "3.0    1\n",
       "8.0    1\n",
       "dtype: int64"
      ]
     },
     "execution_count": 89,
     "metadata": {},
     "output_type": "execute_result"
    }
   ],
   "source": [
    "s = pd.Series([2, 5, 5, 7, 2, 8, 1, 1, 1, 2, 3, 7, None])\n",
    "print('Tam:', len(s))\n",
    "print('N de elementos:', s.count())\n",
    "print('Valores unicos:', s.unique())\n",
    "s.value_counts()"
   ]
  },
  {
   "cell_type": "markdown",
   "metadata": {},
   "source": [
    "### Dataframes\n",
    "\n",
    "Un DataFrames es un montón de series, todas las cuales comparten el mismo índice. Cada columna en una serie por si misma. Se puede pensar en ellos como en una hoja Excel. Pero mejor. Una de las cosas interesantes es que mantiene la alineación automática, asi como las operaciones paralelas al estilo de NumPy.\n",
    "\n",
    "Podemos crear un pandas de muchas formas, a partir de listas y diccionarios, con arrays de NumPy, etc... Una forma muy habital es, por ejemplo, a partir de un fichero .CSV:"
   ]
  },
  {
   "cell_type": "code",
   "execution_count": 100,
   "metadata": {},
   "outputs": [],
   "source": [
    "import pandas as pd\n",
    "\n",
    "titanic = pd.read_csv('../data/titanic.csv')"
   ]
  },
  {
   "cell_type": "code",
   "execution_count": 104,
   "metadata": {},
   "outputs": [
    {
     "data": {
      "text/html": [
       "<div>\n",
       "<style scoped>\n",
       "    .dataframe tbody tr th:only-of-type {\n",
       "        vertical-align: middle;\n",
       "    }\n",
       "\n",
       "    .dataframe tbody tr th {\n",
       "        vertical-align: top;\n",
       "    }\n",
       "\n",
       "    .dataframe thead th {\n",
       "        text-align: right;\n",
       "    }\n",
       "</style>\n",
       "<table border=\"1\" class=\"dataframe\">\n",
       "  <thead>\n",
       "    <tr style=\"text-align: right;\">\n",
       "      <th></th>\n",
       "      <th>pclass</th>\n",
       "      <th>survived</th>\n",
       "      <th>name</th>\n",
       "      <th>sex</th>\n",
       "      <th>age</th>\n",
       "      <th>sibsp</th>\n",
       "      <th>parch</th>\n",
       "      <th>ticket</th>\n",
       "      <th>fare</th>\n",
       "      <th>cabin</th>\n",
       "      <th>embarked</th>\n",
       "      <th>boat</th>\n",
       "      <th>body</th>\n",
       "      <th>home.dest</th>\n",
       "    </tr>\n",
       "  </thead>\n",
       "  <tbody>\n",
       "    <tr>\n",
       "      <th>1306</th>\n",
       "      <td>3</td>\n",
       "      <td>0</td>\n",
       "      <td>Zakarian, Mr. Mapriededer</td>\n",
       "      <td>male</td>\n",
       "      <td>26,5</td>\n",
       "      <td>0</td>\n",
       "      <td>0</td>\n",
       "      <td>2656</td>\n",
       "      <td>7,2250</td>\n",
       "      <td>NaN</td>\n",
       "      <td>C</td>\n",
       "      <td>NaN</td>\n",
       "      <td>304.0</td>\n",
       "      <td>NaN</td>\n",
       "    </tr>\n",
       "    <tr>\n",
       "      <th>1307</th>\n",
       "      <td>3</td>\n",
       "      <td>0</td>\n",
       "      <td>Zakarian, Mr. Ortin</td>\n",
       "      <td>male</td>\n",
       "      <td>27</td>\n",
       "      <td>0</td>\n",
       "      <td>0</td>\n",
       "      <td>2670</td>\n",
       "      <td>7,2250</td>\n",
       "      <td>NaN</td>\n",
       "      <td>C</td>\n",
       "      <td>NaN</td>\n",
       "      <td>NaN</td>\n",
       "      <td>NaN</td>\n",
       "    </tr>\n",
       "    <tr>\n",
       "      <th>1308</th>\n",
       "      <td>3</td>\n",
       "      <td>0</td>\n",
       "      <td>Zimmerman, Mr. Leo</td>\n",
       "      <td>male</td>\n",
       "      <td>29</td>\n",
       "      <td>0</td>\n",
       "      <td>0</td>\n",
       "      <td>315082</td>\n",
       "      <td>7,8750</td>\n",
       "      <td>NaN</td>\n",
       "      <td>S</td>\n",
       "      <td>NaN</td>\n",
       "      <td>NaN</td>\n",
       "      <td>NaN</td>\n",
       "    </tr>\n",
       "  </tbody>\n",
       "</table>\n",
       "</div>"
      ],
      "text/plain": [
       "      pclass  survived                       name   sex   age  sibsp  parch  \\\n",
       "1306       3         0  Zakarian, Mr. Mapriededer  male  26,5      0      0   \n",
       "1307       3         0        Zakarian, Mr. Ortin  male    27      0      0   \n",
       "1308       3         0         Zimmerman, Mr. Leo  male    29      0      0   \n",
       "\n",
       "      ticket    fare cabin embarked boat   body home.dest  \n",
       "1306    2656  7,2250   NaN        C  NaN  304.0       NaN  \n",
       "1307    2670  7,2250   NaN        C  NaN    NaN       NaN  \n",
       "1308  315082  7,8750   NaN        S  NaN    NaN       NaN  "
      ]
     },
     "execution_count": 104,
     "metadata": {},
     "output_type": "execute_result"
    }
   ],
   "source": [
    "titanic.tail(3)"
   ]
  },
  {
   "cell_type": "markdown",
   "metadata": {},
   "source": [
    "Podemos hacernos una idea del contenido de DataFrame, tal y cono los ha interpretado, usando el metodo `head`, que vimos anteriormente en la sección de las Series. Unsado el nombre de cada una de las series que componen el dataframe, podemos usarla como si fuera una serie independiente:"
   ]
  },
  {
   "cell_type": "code",
   "execution_count": 106,
   "metadata": {},
   "outputs": [
    {
     "data": {
      "text/plain": [
       "'Allison, Mr. Hudson Joshua Creighton'"
      ]
     },
     "execution_count": 106,
     "metadata": {},
     "output_type": "execute_result"
    }
   ],
   "source": [
    "titanic.name[3]"
   ]
  },
  {
   "cell_type": "markdown",
   "metadata": {},
   "source": [
    "Si queremos accedera varios valores, podemos acceder por un array de indices o con un array de booleanos:"
   ]
  },
  {
   "cell_type": "code",
   "execution_count": 107,
   "metadata": {},
   "outputs": [
    {
     "data": {
      "text/plain": [
       "1                      Allison, Master. Hudson Trevor\n",
       "2                        Allison, Miss. Helen Loraine\n",
       "3                Allison, Mr. Hudson Joshua Creighton\n",
       "4     Allison, Mrs. Hudson J C (Bessie Waldo Daniels)\n",
       "95              Dodge, Mrs. Washington (Ruth Vidaver)\n",
       "Name: name, dtype: object"
      ]
     },
     "execution_count": 107,
     "metadata": {},
     "output_type": "execute_result"
    }
   ],
   "source": [
    "titanic.name[[1,2,3,4,95]]"
   ]
  },
  {
   "cell_type": "markdown",
   "metadata": {},
   "source": [
    "La primera columna es el índice o etiquetas. Podemos elegir las filas que que se muestran haciendo una selección antes igual que con una serie. Vamos a buscar a ver si encontramos al personaje que interpreta DiCaprio en la película:"
   ]
  },
  {
   "cell_type": "code",
   "execution_count": 118,
   "metadata": {},
   "outputs": [
    {
     "data": {
      "text/html": [
       "<div>\n",
       "<style scoped>\n",
       "    .dataframe tbody tr th:only-of-type {\n",
       "        vertical-align: middle;\n",
       "    }\n",
       "\n",
       "    .dataframe tbody tr th {\n",
       "        vertical-align: top;\n",
       "    }\n",
       "\n",
       "    .dataframe thead th {\n",
       "        text-align: right;\n",
       "    }\n",
       "</style>\n",
       "<table border=\"1\" class=\"dataframe\">\n",
       "  <thead>\n",
       "    <tr style=\"text-align: right;\">\n",
       "      <th></th>\n",
       "      <th>name</th>\n",
       "      <th>sex</th>\n",
       "      <th>age</th>\n",
       "      <th>survived</th>\n",
       "    </tr>\n",
       "  </thead>\n",
       "  <tbody>\n",
       "    <tr>\n",
       "      <th>594</th>\n",
       "      <td>Wheadon, Mr. Edward H</td>\n",
       "      <td>male</td>\n",
       "      <td>66</td>\n",
       "      <td>0</td>\n",
       "    </tr>\n",
       "  </tbody>\n",
       "</table>\n",
       "</div>"
      ],
      "text/plain": [
       "                      name   sex age  survived\n",
       "594  Wheadon, Mr. Edward H  male  66         0"
      ]
     },
     "execution_count": 118,
     "metadata": {},
     "output_type": "execute_result"
    }
   ],
   "source": [
    "q1 = titanic[['name', 'sex', 'age', 'survived']]\n",
    "q1[(titanic.sex == 'male') & (titanic.age == '66')]\n"
   ]
  },
  {
   "cell_type": "markdown",
   "metadata": {},
   "source": [
    "No aparece ningún Jack Dawson. A ver si va a ser mentira..."
   ]
  },
  {
   "cell_type": "markdown",
   "metadata": {},
   "source": [
    "Con el método `describe` podemos obtener un poco más de información acerca de los datos, incluyendo medias, desviaciones estandar, máximos, mínimos, quartiles "
   ]
  },
  {
   "cell_type": "code",
   "execution_count": 41,
   "metadata": {},
   "outputs": [
    {
     "data": {
      "text/html": [
       "<div>\n",
       "<style scoped>\n",
       "    .dataframe tbody tr th:only-of-type {\n",
       "        vertical-align: middle;\n",
       "    }\n",
       "\n",
       "    .dataframe tbody tr th {\n",
       "        vertical-align: top;\n",
       "    }\n",
       "\n",
       "    .dataframe thead th {\n",
       "        text-align: right;\n",
       "    }\n",
       "</style>\n",
       "<table border=\"1\" class=\"dataframe\">\n",
       "  <thead>\n",
       "    <tr style=\"text-align: right;\">\n",
       "      <th></th>\n",
       "      <th>pclass</th>\n",
       "      <th>survived</th>\n",
       "      <th>sibsp</th>\n",
       "      <th>parch</th>\n",
       "      <th>body</th>\n",
       "    </tr>\n",
       "  </thead>\n",
       "  <tbody>\n",
       "    <tr>\n",
       "      <th>count</th>\n",
       "      <td>1309.000000</td>\n",
       "      <td>1309.000000</td>\n",
       "      <td>1309.000000</td>\n",
       "      <td>1309.000000</td>\n",
       "      <td>121.000000</td>\n",
       "    </tr>\n",
       "    <tr>\n",
       "      <th>mean</th>\n",
       "      <td>2.294882</td>\n",
       "      <td>0.381971</td>\n",
       "      <td>0.498854</td>\n",
       "      <td>0.385027</td>\n",
       "      <td>160.809917</td>\n",
       "    </tr>\n",
       "    <tr>\n",
       "      <th>std</th>\n",
       "      <td>0.837836</td>\n",
       "      <td>0.486055</td>\n",
       "      <td>1.041658</td>\n",
       "      <td>0.865560</td>\n",
       "      <td>97.696922</td>\n",
       "    </tr>\n",
       "    <tr>\n",
       "      <th>min</th>\n",
       "      <td>1.000000</td>\n",
       "      <td>0.000000</td>\n",
       "      <td>0.000000</td>\n",
       "      <td>0.000000</td>\n",
       "      <td>1.000000</td>\n",
       "    </tr>\n",
       "    <tr>\n",
       "      <th>25%</th>\n",
       "      <td>2.000000</td>\n",
       "      <td>0.000000</td>\n",
       "      <td>0.000000</td>\n",
       "      <td>0.000000</td>\n",
       "      <td>72.000000</td>\n",
       "    </tr>\n",
       "    <tr>\n",
       "      <th>50%</th>\n",
       "      <td>3.000000</td>\n",
       "      <td>0.000000</td>\n",
       "      <td>0.000000</td>\n",
       "      <td>0.000000</td>\n",
       "      <td>155.000000</td>\n",
       "    </tr>\n",
       "    <tr>\n",
       "      <th>75%</th>\n",
       "      <td>3.000000</td>\n",
       "      <td>1.000000</td>\n",
       "      <td>1.000000</td>\n",
       "      <td>0.000000</td>\n",
       "      <td>256.000000</td>\n",
       "    </tr>\n",
       "    <tr>\n",
       "      <th>max</th>\n",
       "      <td>3.000000</td>\n",
       "      <td>1.000000</td>\n",
       "      <td>8.000000</td>\n",
       "      <td>9.000000</td>\n",
       "      <td>328.000000</td>\n",
       "    </tr>\n",
       "  </tbody>\n",
       "</table>\n",
       "</div>"
      ],
      "text/plain": [
       "            pclass     survived        sibsp        parch        body\n",
       "count  1309.000000  1309.000000  1309.000000  1309.000000  121.000000\n",
       "mean      2.294882     0.381971     0.498854     0.385027  160.809917\n",
       "std       0.837836     0.486055     1.041658     0.865560   97.696922\n",
       "min       1.000000     0.000000     0.000000     0.000000    1.000000\n",
       "25%       2.000000     0.000000     0.000000     0.000000   72.000000\n",
       "50%       3.000000     0.000000     0.000000     0.000000  155.000000\n",
       "75%       3.000000     1.000000     1.000000     0.000000  256.000000\n",
       "max       3.000000     1.000000     8.000000     9.000000  328.000000"
      ]
     },
     "execution_count": 41,
     "metadata": {},
     "output_type": "execute_result"
    }
   ],
   "source": [
    "titanic.describe()"
   ]
  },
  {
   "cell_type": "markdown",
   "metadata": {},
   "source": [
    "Al igual que un array de numpy, podemos obtener las columnas (Proyectar, en jerga informática) usando los vectores booleanos que son el resultado de operaciones vectorizables, pero con la comodidad de acceder no solo por posición sino por nombre:"
   ]
  },
  {
   "cell_type": "code",
   "execution_count": 119,
   "metadata": {
    "scrolled": true
   },
   "outputs": [
    {
     "name": "stdout",
     "output_type": "stream",
     "text": [
      "('N\\xc2\\xba de varones:', 843)\n",
      "('N\\xc2\\xba de mujeres:', 466)\n"
     ]
    }
   ],
   "source": [
    "males = titanic[titanic['sex']=='male']\n",
    "females = titanic[titanic['sex']=='female']\n",
    "print('Nº de varones:', len(males))\n",
    "print('Nº de mujeres:', len(females))"
   ]
  },
  {
   "cell_type": "markdown",
   "metadata": {},
   "source": [
    "podemos representar una gráfica de edades con el método `plot`, que ya está incluido por defecto en las Series y en los Dataframes:"
   ]
  },
  {
   "cell_type": "code",
   "execution_count": 43,
   "metadata": {},
   "outputs": [
    {
     "data": {
      "text/plain": [
       "[<matplotlib.lines.Line2D at 0x7f87de8fcc10>]"
      ]
     },
     "execution_count": 43,
     "metadata": {},
     "output_type": "execute_result"
    },
    {
     "data": {
      "image/png": "[encoded data removed]",
      "text/plain": [
       "<matplotlib.figure.Figure at 0x7f87de30ff10>"
      ]
     },
     "metadata": {},
     "output_type": "display_data"
    }
   ],
   "source": [
    "ages = titanic.age[0:100]\n",
    "plt.plot(range(len(ages)), ages)"
   ]
  },
  {
   "cell_type": "markdown",
   "metadata": {},
   "source": [
    "O usar otras posibilidades, como el método `hist` incluido en el DataFrame, para representar un histograma de una serie de valores:"
   ]
  },
  {
   "cell_type": "code",
   "execution_count": 120,
   "metadata": {
    "hide_input": true,
    "tags": [
     "svg"
    ]
   },
   "outputs": [
    {
     "data": {
      "image/png": "[encoded data removed]",
      "text/plain": [
       "<matplotlib.figure.Figure at 0x7f87de833310>"
      ]
     },
     "metadata": {},
     "output_type": "display_data"
    }
   ],
   "source": [
    "pd.to_numeric(titanic.age, errors='coerce').hist(bins=100);"
   ]
  },
  {
   "cell_type": "markdown",
   "metadata": {},
   "source": [
    "Atención a la llamada a `to_numeric`, el dato en la columnda está como texto."
   ]
  },
  {
   "cell_type": "markdown",
   "metadata": {},
   "source": [
    "Con respecto al uso de `NaN`, Pandas lo gestiona de forma diferente a NumPy. En NumPY, los cálculos producen un error en cuanto aparece un `NaN`, mientras que Pandas, en general, tiene a obviarlo."
   ]
  },
  {
   "cell_type": "code",
   "execution_count": 45,
   "metadata": {},
   "outputs": [
    {
     "data": {
      "text/plain": [
       "True"
      ]
     },
     "execution_count": 45,
     "metadata": {},
     "output_type": "execute_result"
    }
   ],
   "source": [
    "nda = np.array([1, 2, 3, 4, 5])\n",
    "assert nda.mean() == 3.0\n",
    "nda = np.array([1, 2, 3, 4, np.NaN])\n",
    "nda.mean() == np.NaN\n",
    "s = pd.Series(nda)\n",
    "s.mean() == 2.5\n",
    "\n"
   ]
  },
  {
   "cell_type": "markdown",
   "metadata": {},
   "source": [
    "Es este caso, Pandas ignora totalmante el valor `NaN`. este valor es habitual para aquellos casos. Es el comportamiento habitual con herramientas estadísiticas, en las que se espera datos incompletos, que iremos refinando poco a poco. En caso de ser necesario, las librerias de Panda incorporan un parámetro que los fuerza a trabajar al modo de NunPY.\n"
   ]
  },
  {
   "cell_type": "code",
   "execution_count": null,
   "metadata": {},
   "outputs": [],
   "source": []
  }
 ],
 "metadata": {
  "kernelspec": {
   "display_name": "Python 3",
   "language": "python",
   "name": "python3"
  },
  "language_info": {
   "codemirror_mode": {
    "name": "ipython",
    "version": 2
   },
   "file_extension": ".py",
   "mimetype": "text/x-python",
   "name": "python",
   "nbconvert_exporter": "python",
   "pygments_lexer": "ipython2",
   "version": "2.7.12"
  }
 },
 "nbformat": 4,
 "nbformat_minor": 2
}
